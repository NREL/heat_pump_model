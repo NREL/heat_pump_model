{
 "cells": [
  {
   "cell_type": "code",
   "execution_count": 1,
   "metadata": {},
   "outputs": [],
   "source": [
    "from heat_pump_model import heat_pump\n",
    "from libraries import * \n",
    "from refrigerant_properties import *\n",
    "import numpy as np\n",
    "from utilities.unit_defs import Q_"
   ]
  },
  {
   "cell_type": "code",
   "execution_count": 2,
   "metadata": {},
   "outputs": [
    {
     "name": "stdout",
     "output_type": "stream",
     "text": [
      "Calculate COP Called\n",
      "Average Theoretical COP:  9.20375 dimensionless\n",
      "Average Estimated COP:  4.601875 dimensionless\n",
      "Calculate Energy and Mass Called\n",
      "Hot Mass Flow Average: 99.0 kg/s\n",
      "Cold Average Outlet Temperature: 56.00 °C\n",
      "Average Power Draw of Heat Pump: 217.254 kW\n",
      "Maximum Power Draw of Heat Pump: 217.254 kW\n",
      "Annual Electricity in: 1,903,144.9 kWh\n",
      "Calculate Heat Pump Costs\n",
      "Capital Cost: 589,867.65 $\n",
      "Capacity Factor: 1.000\n",
      "One Year Fixed O&M Costs: 40.25 $·MMBtu/h/kW/yr\n",
      "One Year Variable O&M Costs: 1,494.18 $/yr\n",
      "One Year Energy Costs: 64,133.38 $/yr\n",
      "One Year Operating Costs: 264.18 $·MMBtu/h/kW/yr\n",
      "Lifetime LCOH: 3.58 $/MMBtu\n",
      "Calculate Natural Gas Comparison\n",
      "Gas Capital Cost: 383,779.77 $\n",
      "Gas One Year Fixed O&M Costs: 170.57 $/yr\n",
      "Gas One Year Variable O&M Costs: 373.55 $/yr\n",
      "Gas One Year Energy Costs: 104,592.78 $/yr\n",
      "Gas One Year Operating Costs: 105,136.89 $/yr\n",
      "Gas Lifetime LCOH: 4.16 $/MMBtu\n",
      "Calculate Cash Flow\n",
      "NPV: -195,600.61 $\n",
      "IRR: 0.005 pct\n",
      "PBP: NA yr\n",
      "Writing all output to a file\n"
     ]
    }
   ],
   "source": [
    "hp_test = heat_pump()\n",
    "hp_test.construct_yaml_input_quantities('model_inputs.yml')\n",
    "hp_test.hot_temperature_desired = Q_(np.array([90]*8760), 'degC')\n",
    "hp_test.hot_temperature_minimum = Q_(np.array([80]*8760), 'degC')\n",
    "hp_test.cold_temperature_available = Q_(np.array([60]*8760), 'degC')\n",
    "hp_test.gas_price_MMBTU = Q_(np.array([4.5] * 8760), 'USD / MMBtu')\n",
    "hp_test.carnot_efficiency_factor = Q_('0.50')\n",
    "hp_test.carnot_efficiency_factor_flag = False\n",
    "hp_test.refrigerant = 'R234a'\n",
    "\n",
    "hp_test.run_all('test')"
   ]
  },
  {
   "cell_type": "code",
   "execution_count": null,
   "metadata": {},
   "outputs": [],
   "source": []
  }
 ],
 "metadata": {
  "kernelspec": {
   "display_name": "Python 3.8.12 ('py_matlab')",
   "language": "python",
   "name": "python3"
  },
  "language_info": {
   "codemirror_mode": {
    "name": "ipython",
    "version": 3
   },
   "file_extension": ".py",
   "mimetype": "text/x-python",
   "name": "python",
   "nbconvert_exporter": "python",
   "pygments_lexer": "ipython3",
   "version": "3.8.12"
  },
  "vscode": {
   "interpreter": {
    "hash": "0d4935a8bb39d98c893ca66b62abc8cf4b059e46c469c990c66e8a9517e82ce8"
   }
  }
 },
 "nbformat": 4,
 "nbformat_minor": 2
}
