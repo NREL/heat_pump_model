{
 "cells": [
  {
   "cell_type": "code",
   "execution_count": 5,
   "metadata": {},
   "outputs": [],
   "source": [
    "from heat_pump_model import heat_pump\n",
    "from libraries import * \n",
    "from refrigerant_properties import *\n",
    "import numpy as np\n",
    "from utilities.unit_defs import Q_"
   ]
  },
  {
   "cell_type": "code",
   "execution_count": 6,
   "metadata": {},
   "outputs": [
    {
     "name": "stdout",
     "output_type": "stream",
     "text": [
      "Calculate COP Called\n",
      "Average Theoretical COP:  9.20375 dimensionless\n",
      "Average Estimated COP:  4.601875 dimensionless\n",
      "Calculate Energy and Mass Called\n",
      "Hot Mass Flow Average: 99.0 kg/s\n",
      "Cold Average Outlet Temperature: 56.00 °C\n",
      "Average Power Draw of Heat Pump: 217.254 kW\n",
      "Maximum Power Draw of Heat Pump: 217.254 kW\n",
      "Annual Electricity in: 1,903,144.9 kWh\n",
      "Calculate Heat Pump Costs\n",
      "Capital Cost: 589,867.65 $\n",
      "Capacity Factor: 1.000\n",
      "One Year Fixed O&M Costs: 40.25 $·MMBtu/hr/kW/yr\n",
      "One Year Variable O&M Costs: 1,494.18 $/yr\n",
      "One Year Energy Costs: 64,133.38 $/yr\n",
      "One Year Operating Costs: 264.18 $·MMBtu/hr/kW/yr\n",
      "Lifetime LCOH: 3.58 $/MMBtu\n",
      "Calculate Natural Gas Comparison\n",
      "Gas Capital Cost: 383,779.77 $\n",
      "Gas One Year Fixed O&M Costs: 170.57 $/yr\n",
      "Gas One Year Variable O&M Costs: 373.55 $/yr\n",
      "Gas One Year Energy Costs: 104,592.78 $/yr\n",
      "Gas One Year Operating Costs: 105,136.89 $/yr\n",
      "Gas Lifetime LCOH: 4.16 $/MMBtu\n",
      "Calculate Cash Flow\n",
      "NPV: -195,600.61 $\n",
      "IRR: 0.005 pct\n",
      "PBP: NA yr\n",
      "Writing all output to a file\n"
     ]
    }
   ],
   "source": [
    "hp_test = heat_pump()\n",
    "hp_test.construct_yaml_input_quantities('model_inputs.yml')\n",
    "hp_test.hot_temperature_desired = Q_(np.array([90]*8760), 'degC')\n",
    "hp_test.hot_temperature_minimum = Q_(np.array([80]*8760), 'degC')\n",
    "hp_test.cold_temperature_available = Q_(np.array([60]*8760), 'degC')\n",
    "hp_test.gas_price_MMBTU = Q_(np.array([4.5] * 8760), 'USD / MMBtu')\n",
    "hp_test.carnot_efficiency_factor = Q_('0.50')\n",
    "hp_test.carnot_efficiency_factor_flag = False\n",
    "hp_test.refrigerant = 'R234a'\n",
    "\n",
    "hp_test.run_all('test')"
   ]
  },
  {
   "cell_type": "code",
   "execution_count": 7,
   "metadata": {},
   "outputs": [
    {
     "name": "stdout",
     "output_type": "stream",
     "text": [
      "59.73632172375269 kilogram / second\n",
      "[56.0 56.0 56.0 ... 56.0 56.0 56.0] degree_Celsius\n"
     ]
    }
   ],
   "source": [
    "print(np.mean(hp_test.cold_mass_flowrate).to('kg/s'))\n",
    "print(hp_test.cold_final_temperature)"
   ]
  },
  {
   "cell_type": "code",
   "execution_count": 8,
   "metadata": {},
   "outputs": [
    {
     "name": "stdout",
     "output_type": "stream",
     "text": [
      "R234a\n"
     ]
    },
    {
     "ename": "ValueError",
     "evalue": "Neither input to Props1SI [Tcrit,R234a] is a valid fluid :: inputs were :\"R234a\",\"Tcrit\"",
     "output_type": "error",
     "traceback": [
      "\u001b[1;31m---------------------------------------------------------------------------\u001b[0m",
      "\u001b[1;31mValueError\u001b[0m                                Traceback (most recent call last)",
      "\u001b[1;32m~\\AppData\\Local\\Temp\\1/ipykernel_129076/3118911033.py\u001b[0m in \u001b[0;36m<module>\u001b[1;34m\u001b[0m\n\u001b[0;32m      1\u001b[0m \u001b[0mprint\u001b[0m\u001b[1;33m(\u001b[0m\u001b[0mhp_test\u001b[0m\u001b[1;33m.\u001b[0m\u001b[0mrefrigerant\u001b[0m\u001b[1;33m)\u001b[0m\u001b[1;33m\u001b[0m\u001b[1;33m\u001b[0m\u001b[0m\n\u001b[0;32m      2\u001b[0m \u001b[1;31m#plot_saturation_curve(hp_test.refrigerant)\u001b[0m\u001b[1;33m\u001b[0m\u001b[1;33m\u001b[0m\u001b[0m\n\u001b[1;32m----> 3\u001b[1;33m \u001b[0mplot_cycle\u001b[0m\u001b[1;33m(\u001b[0m\u001b[0mhp_test\u001b[0m\u001b[1;33m.\u001b[0m\u001b[0mcold_temperature_available\u001b[0m\u001b[1;33m.\u001b[0m\u001b[0mm\u001b[0m\u001b[1;33m.\u001b[0m\u001b[0mmean\u001b[0m\u001b[1;33m(\u001b[0m\u001b[1;33m)\u001b[0m\u001b[1;33m,\u001b[0m \u001b[0mhp_test\u001b[0m\u001b[1;33m.\u001b[0m\u001b[0mhot_temperature_desired\u001b[0m\u001b[1;33m.\u001b[0m\u001b[0mm\u001b[0m\u001b[1;33m.\u001b[0m\u001b[0mmean\u001b[0m\u001b[1;33m(\u001b[0m\u001b[1;33m)\u001b[0m\u001b[1;33m,\u001b[0m \u001b[0mhp_test\u001b[0m\u001b[1;33m.\u001b[0m\u001b[0mrefrigerant\u001b[0m\u001b[1;33m)\u001b[0m\u001b[1;33m\u001b[0m\u001b[1;33m\u001b[0m\u001b[0m\n\u001b[0m",
      "\u001b[1;32mc:\\Users\\parmatis\\Documents\\Models\\hthp\\heat_pump_model\\refrigerant_properties.py\u001b[0m in \u001b[0;36mplot_cycle\u001b[1;34m(cold_T, hot_T, fluid)\u001b[0m\n\u001b[0;32m     95\u001b[0m     \u001b[0mn\u001b[0m \u001b[1;33m=\u001b[0m \u001b[1;36m500\u001b[0m\u001b[1;33m\u001b[0m\u001b[1;33m\u001b[0m\u001b[0m\n\u001b[0;32m     96\u001b[0m     \u001b[1;31m# Getting critical T, P, and S for\u001b[0m\u001b[1;33m\u001b[0m\u001b[1;33m\u001b[0m\u001b[0m\n\u001b[1;32m---> 97\u001b[1;33m     \u001b[0mt_crit\u001b[0m \u001b[1;33m=\u001b[0m \u001b[0mPropsSI\u001b[0m\u001b[1;33m(\u001b[0m\u001b[0mfluid\u001b[0m\u001b[1;33m,\u001b[0m \u001b[1;34m'Tcrit'\u001b[0m\u001b[1;33m)\u001b[0m\u001b[1;33m\u001b[0m\u001b[1;33m\u001b[0m\u001b[0m\n\u001b[0m\u001b[0;32m     98\u001b[0m     \u001b[0mp_crit\u001b[0m \u001b[1;33m=\u001b[0m \u001b[0mPropsSI\u001b[0m\u001b[1;33m(\u001b[0m\u001b[0mfluid\u001b[0m\u001b[1;33m,\u001b[0m \u001b[1;34m'Pcrit'\u001b[0m\u001b[1;33m)\u001b[0m\u001b[1;33m\u001b[0m\u001b[1;33m\u001b[0m\u001b[0m\n\u001b[0;32m     99\u001b[0m     \u001b[0ms_crit\u001b[0m \u001b[1;33m=\u001b[0m \u001b[0mPropsSI\u001b[0m\u001b[1;33m(\u001b[0m\u001b[1;34m'S'\u001b[0m\u001b[1;33m,\u001b[0m \u001b[1;34m'T'\u001b[0m\u001b[1;33m,\u001b[0m \u001b[0mt_crit\u001b[0m\u001b[1;33m,\u001b[0m \u001b[1;34m'Q'\u001b[0m\u001b[1;33m,\u001b[0m \u001b[1;36m1\u001b[0m\u001b[1;33m,\u001b[0m \u001b[0mfluid\u001b[0m\u001b[1;33m)\u001b[0m\u001b[1;33m\u001b[0m\u001b[1;33m\u001b[0m\u001b[0m\n",
      "\u001b[1;32mCoolProp\\CoolProp.pyx\u001b[0m in \u001b[0;36mCoolProp.CoolProp.PropsSI\u001b[1;34m()\u001b[0m\n",
      "\u001b[1;32mCoolProp\\CoolProp.pyx\u001b[0m in \u001b[0;36mCoolProp.CoolProp.PropsSI\u001b[1;34m()\u001b[0m\n",
      "\u001b[1;32mCoolProp\\CoolProp.pyx\u001b[0m in \u001b[0;36mCoolProp.CoolProp.__Props_err1\u001b[1;34m()\u001b[0m\n",
      "\u001b[1;31mValueError\u001b[0m: Neither input to Props1SI [Tcrit,R234a] is a valid fluid :: inputs were :\"R234a\",\"Tcrit\""
     ]
    }
   ],
   "source": [
    "print(hp_test.refrigerant)\n",
    "#plot_saturation_curve(hp_test.refrigerant)\n",
    "plot_cycle(hp_test.cold_temperature_available.m.mean(), hp_test.hot_temperature_desired.m.mean(), hp_test.refrigerant)"
   ]
  },
  {
   "cell_type": "code",
   "execution_count": null,
   "metadata": {},
   "outputs": [],
   "source": [
    "from CoolProp.CoolProp import PropsSI \n",
    "t_crit = PropsSI('Acetone', 'Tcrit') \n"
   ]
  },
  {
   "cell_type": "code",
   "execution_count": null,
   "metadata": {},
   "outputs": [],
   "source": []
  }
 ],
 "metadata": {
  "interpreter": {
   "hash": "37a927648fdd1c9cb67b01c936c704221e4033da9295afcb0a23fad6702e6998"
  },
  "kernelspec": {
   "display_name": "Python 3",
   "language": "python",
   "name": "python3"
  },
  "language_info": {
   "codemirror_mode": {
    "name": "ipython",
    "version": 3
   },
   "file_extension": ".py",
   "mimetype": "text/x-python",
   "name": "python",
   "nbconvert_exporter": "python",
   "pygments_lexer": "ipython3",
   "version": "3.9.7"
  }
 },
 "nbformat": 4,
 "nbformat_minor": 2
}
