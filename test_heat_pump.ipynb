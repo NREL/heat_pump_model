{
 "cells": [
  {
   "cell_type": "code",
   "execution_count": 1,
   "metadata": {},
   "outputs": [],
   "source": [
    "from heat_pump_model import heat_pump\n",
    "from libraries import * \n",
    "from refrigerant_properties import *\n",
    "import numpy as np\n",
    "from utilities.unit_defs import Q_"
   ]
  },
  {
   "cell_type": "code",
   "execution_count": 2,
   "metadata": {},
   "outputs": [
    {
     "ename": "FileNotFoundError",
     "evalue": "[Errno 2] No such file or directory: 'model_inputs.yml'",
     "output_type": "error",
     "traceback": [
      "\u001b[0;31m---------------------------------------------------------------------------\u001b[0m",
      "\u001b[0;31mFileNotFoundError\u001b[0m                         Traceback (most recent call last)",
      "\u001b[1;32m/Users/jcox/Documents/GitHub/heat_pump_model/test_heat_pump.ipynb Cell 2\u001b[0m in \u001b[0;36m<cell line: 1>\u001b[0;34m()\u001b[0m\n\u001b[0;32m----> <a href='vscode-notebook-cell:/Users/jcox/Documents/GitHub/heat_pump_model/test_heat_pump.ipynb#W1sZmlsZQ%3D%3D?line=0'>1</a>\u001b[0m hp_test \u001b[39m=\u001b[39m heat_pump()\n\u001b[1;32m      <a href='vscode-notebook-cell:/Users/jcox/Documents/GitHub/heat_pump_model/test_heat_pump.ipynb#W1sZmlsZQ%3D%3D?line=1'>2</a>\u001b[0m hp_test\u001b[39m.\u001b[39mconstruct_yaml_input_quantities(\u001b[39m'\u001b[39m\u001b[39mmodel_inputs.yml\u001b[39m\u001b[39m'\u001b[39m)\n\u001b[1;32m      <a href='vscode-notebook-cell:/Users/jcox/Documents/GitHub/heat_pump_model/test_heat_pump.ipynb#W1sZmlsZQ%3D%3D?line=2'>3</a>\u001b[0m hp_test\u001b[39m.\u001b[39mhot_temperature_desired \u001b[39m=\u001b[39m Q_(np\u001b[39m.\u001b[39marray([\u001b[39m90\u001b[39m]\u001b[39m*\u001b[39m\u001b[39m8760\u001b[39m), \u001b[39m'\u001b[39m\u001b[39mdegC\u001b[39m\u001b[39m'\u001b[39m)\n",
      "File \u001b[0;32m~/Documents/GitHub/heat_pump_model/heat_pump_model.py:69\u001b[0m, in \u001b[0;36mheat_pump.__init__\u001b[0;34m(self)\u001b[0m\n\u001b[1;32m     65\u001b[0m \u001b[39mself\u001b[39m\u001b[39m.\u001b[39mpayback_period \u001b[39m=\u001b[39m Q_(\u001b[39m'\u001b[39m\u001b[39m100.0 yr\u001b[39m\u001b[39m'\u001b[39m)\n\u001b[1;32m     67\u001b[0m \u001b[39mself\u001b[39m\u001b[39m.\u001b[39mn_hrs \u001b[39m=\u001b[39m \u001b[39m8760\u001b[39m\n\u001b[0;32m---> 69\u001b[0m \u001b[39mself\u001b[39;49m\u001b[39m.\u001b[39;49mconstruct_yaml_input_quantities(\u001b[39m'\u001b[39;49m\u001b[39mmodel_inputs.yml\u001b[39;49m\u001b[39m'\u001b[39;49m)\n",
      "File \u001b[0;32m~/Documents/GitHub/heat_pump_model/heat_pump_model.py:73\u001b[0m, in \u001b[0;36mheat_pump.construct_yaml_input_quantities\u001b[0;34m(self, file_path)\u001b[0m\n\u001b[1;32m     72\u001b[0m \u001b[39mdef\u001b[39;00m \u001b[39mconstruct_yaml_input_quantities\u001b[39m(\u001b[39mself\u001b[39m, file_path):\n\u001b[0;32m---> 73\u001b[0m     \u001b[39mwith\u001b[39;00m \u001b[39mopen\u001b[39;49m(file_path, \u001b[39m\"\u001b[39;49m\u001b[39mr\u001b[39;49m\u001b[39m\"\u001b[39;49m) \u001b[39mas\u001b[39;00m file_desc:\n\u001b[1;32m     74\u001b[0m         input_dict \u001b[39m=\u001b[39m yaml\u001b[39m.\u001b[39msafe_load(file_desc)\n\u001b[1;32m     76\u001b[0m     \u001b[39mfor\u001b[39;00m key \u001b[39min\u001b[39;00m input_dict:\n",
      "\u001b[0;31mFileNotFoundError\u001b[0m: [Errno 2] No such file or directory: 'model_inputs.yml'"
     ]
    }
   ],
   "source": [
    "hp_test = heat_pump()\n",
    "hp_test.construct_yaml_input_quantities('model_inputs.yml')\n",
    "hp_test.hot_temperature_desired = Q_(np.array([90]*8760), 'degC')\n",
    "hp_test.hot_temperature_minimum = Q_(np.array([80]*8760), 'degC')\n",
    "hp_test.cold_temperature_available = Q_(np.array([60]*8760), 'degC')\n",
    "hp_test.gas_price_MMBTU = Q_(np.array([4.5] * 8760), 'USD / MMBtu')\n",
    "hp_test.carnot_efficiency_factor = Q_('0.50')\n",
    "hp_test.carnot_efficiency_factor_flag = False\n",
    "hp_test.refrigerant = 'R234a'\n",
    "\n",
    "hp_test.run_all('test')"
   ]
  },
  {
   "cell_type": "code",
   "execution_count": null,
   "metadata": {},
   "outputs": [],
   "source": []
  }
 ],
 "metadata": {
  "kernelspec": {
   "display_name": "Python 3.9.12 ('base')",
   "language": "python",
   "name": "python3"
  },
  "language_info": {
   "codemirror_mode": {
    "name": "ipython",
    "version": 3
   },
   "file_extension": ".py",
   "mimetype": "text/x-python",
   "name": "python",
   "nbconvert_exporter": "python",
   "pygments_lexer": "ipython3",
   "version": "3.9.13"
  },
  "vscode": {
   "interpreter": {
    "hash": "37a927648fdd1c9cb67b01c936c704221e4033da9295afcb0a23fad6702e6998"
   }
  }
 },
 "nbformat": 4,
 "nbformat_minor": 2
}
