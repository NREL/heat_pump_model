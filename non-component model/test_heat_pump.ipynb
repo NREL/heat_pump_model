{
 "cells": [
  {
   "cell_type": "code",
   "execution_count": 1,
   "metadata": {},
   "outputs": [],
   "source": [
    "from heat_pump_model import heat_pump\n",
    "from libraries import * \n",
    "from refrigerant_properties import *\n",
    "import numpy as np\n",
    "from utilities.unit_defs import Q_"
   ]
  },
  {
   "cell_type": "code",
   "execution_count": 2,
   "metadata": {},
   "outputs": [
    {
     "name": "stdout",
     "output_type": "stream",
     "text": [
      "Calculate COP Called\n",
      "Average Theoretical COP:  9.20375 dimensionless\n",
      "Average Estimated COP:  4.601875 dimensionless\n",
      "Calculate Energy and Mass Called\n",
      "Hot Mass Flow Average: 99.0 kg/s\n",
      "Cold Average Outlet Temperature: 56.00 °C\n",
      "Average Power Draw of Heat Pump: 217.254 kW\n",
      "Maximum Power Draw of Heat Pump: 217.254 kW\n",
      "Annual Electricity in: 1,903,144.9 kWh\n",
      "Calculate Heat Pump Costs\n",
      "Capital Cost: 299,932.70 $\n",
      "Capacity Factor: 1.000\n",
      "One Year Fixed O&M Costs: 40.25 $·MMBtu/h/kW/yr\n",
      "One Year Variable O&M Costs: 1,494.18 $/yr\n",
      "One Year Energy Costs: 64,133.38 $/yr\n",
      "One Year Operating Costs: 264.18 $·MMBtu/h/kW/yr\n",
      "Lifetime LCOH: 3.09 $/MMBtu\n",
      "Calculate Natural Gas Comparison\n"
     ]
    },
    {
     "ename": "AttributeError",
     "evalue": "'heat_pump' object has no attribute 'gas_fixed_o_and_m_per_size'",
     "output_type": "error",
     "traceback": [
      "\u001b[0;31m---------------------------------------------------------------------------\u001b[0m",
      "\u001b[0;31mAttributeError\u001b[0m                            Traceback (most recent call last)",
      "\u001b[1;32m/Users/jcox/Documents/GitHub/heat_pump_model/test_heat_pump.ipynb Cell 2\u001b[0m in \u001b[0;36m<cell line: 11>\u001b[0;34m()\u001b[0m\n\u001b[1;32m      <a href='vscode-notebook-cell:/Users/jcox/Documents/GitHub/heat_pump_model/test_heat_pump.ipynb#W1sZmlsZQ%3D%3D?line=7'>8</a>\u001b[0m hp_test\u001b[39m.\u001b[39mcarnot_efficiency_factor_flag \u001b[39m=\u001b[39m \u001b[39mFalse\u001b[39;00m\n\u001b[1;32m      <a href='vscode-notebook-cell:/Users/jcox/Documents/GitHub/heat_pump_model/test_heat_pump.ipynb#W1sZmlsZQ%3D%3D?line=8'>9</a>\u001b[0m hp_test\u001b[39m.\u001b[39mrefrigerant \u001b[39m=\u001b[39m \u001b[39m'\u001b[39m\u001b[39mR234a\u001b[39m\u001b[39m'\u001b[39m\n\u001b[0;32m---> <a href='vscode-notebook-cell:/Users/jcox/Documents/GitHub/heat_pump_model/test_heat_pump.ipynb#W1sZmlsZQ%3D%3D?line=10'>11</a>\u001b[0m hp_test\u001b[39m.\u001b[39;49mrun_all(\u001b[39m'\u001b[39;49m\u001b[39mtest\u001b[39;49m\u001b[39m'\u001b[39;49m)\n",
      "File \u001b[0;32m~/Documents/GitHub/heat_pump_model/heat_pump_model.py:437\u001b[0m, in \u001b[0;36mheat_pump.run_all\u001b[0;34m(self, filename)\u001b[0m\n\u001b[1;32m    435\u001b[0m \u001b[39mself\u001b[39m\u001b[39m.\u001b[39mcalculate_energy_and_mass_flow()\n\u001b[1;32m    436\u001b[0m \u001b[39mself\u001b[39m\u001b[39m.\u001b[39mcalculate_heat_pump_costs()\n\u001b[0;32m--> 437\u001b[0m \u001b[39mself\u001b[39;49m\u001b[39m.\u001b[39;49mcalculate_natural_gas_comparison()\n\u001b[1;32m    438\u001b[0m \u001b[39mself\u001b[39m\u001b[39m.\u001b[39mcalculate_cash_flow()\n\u001b[1;32m    439\u001b[0m \u001b[39mif\u001b[39;00m \u001b[39mself\u001b[39m\u001b[39m.\u001b[39mwrite_output_file: \u001b[39mself\u001b[39m\u001b[39m.\u001b[39mwrite_output(filename)\n",
      "File \u001b[0;32m~/Documents/GitHub/heat_pump_model/heat_pump_model.py:317\u001b[0m, in \u001b[0;36mheat_pump.calculate_natural_gas_comparison\u001b[0;34m(self)\u001b[0m\n\u001b[1;32m    315\u001b[0m     \u001b[39mself\u001b[39m\u001b[39m.\u001b[39mgas_capital_cost \u001b[39m=\u001b[39m \u001b[39mself\u001b[39m\u001b[39m.\u001b[39mspecific_gas_capital_cost \u001b[39m*\u001b[39m np\u001b[39m.\u001b[39mmax(\u001b[39mself\u001b[39m\u001b[39m.\u001b[39mprocess_heat_requirement\u001b[39m.\u001b[39mto(\u001b[39m'\u001b[39m\u001b[39mMMBtu/hr\u001b[39m\u001b[39m'\u001b[39m))\u001b[39m/\u001b[39m\u001b[39mself\u001b[39m\u001b[39m.\u001b[39mgas_efficiency\n\u001b[1;32m    316\u001b[0m     \u001b[39mself\u001b[39m\u001b[39m.\u001b[39mgas_capital_cost \u001b[39m=\u001b[39m \u001b[39mself\u001b[39m\u001b[39m.\u001b[39mgas_capital_cost\n\u001b[0;32m--> 317\u001b[0m \u001b[39mself\u001b[39m\u001b[39m.\u001b[39mgas_year_one_fixed_o_and_m \u001b[39m=\u001b[39m \u001b[39mself\u001b[39;49m\u001b[39m.\u001b[39;49mgas_fixed_o_and_m_per_size\u001b[39m*\u001b[39mnp\u001b[39m.\u001b[39mmax(\u001b[39mself\u001b[39m\u001b[39m.\u001b[39mprocess_heat_requirement\u001b[39m.\u001b[39mto(\u001b[39m'\u001b[39m\u001b[39mMMBtu/hr\u001b[39m\u001b[39m'\u001b[39m))\n\u001b[1;32m    318\u001b[0m \u001b[39mself\u001b[39m\u001b[39m.\u001b[39mgas_year_one_fixed_o_and_m \u001b[39m=\u001b[39m \u001b[39mself\u001b[39m\u001b[39m.\u001b[39mgas_year_one_fixed_o_and_m\n\u001b[1;32m    319\u001b[0m \u001b[39mself\u001b[39m\u001b[39m.\u001b[39mgas_year_one_variable_o_and_m \u001b[39m=\u001b[39m \u001b[39mself\u001b[39m\u001b[39m.\u001b[39mgas_variable_o_and_m_per_mmbtu\u001b[39m*\u001b[39m\u001b[39mself\u001b[39m\u001b[39m.\u001b[39mmysum(\u001b[39mself\u001b[39m\u001b[39m.\u001b[39mprocess_heat_requirement\u001b[39m.\u001b[39mto(\u001b[39m'\u001b[39m\u001b[39mMMBtu/hr\u001b[39m\u001b[39m'\u001b[39m)\u001b[39m*\u001b[39mQ_(\u001b[39m'\u001b[39m\u001b[39m1 hr\u001b[39m\u001b[39m'\u001b[39m))\u001b[39m/\u001b[39m(Q_(\u001b[39m'\u001b[39m\u001b[39m1 yr\u001b[39m\u001b[39m'\u001b[39m)\u001b[39m*\u001b[39m\u001b[39mself\u001b[39m\u001b[39m.\u001b[39mgas_efficiency)\n",
      "\u001b[0;31mAttributeError\u001b[0m: 'heat_pump' object has no attribute 'gas_fixed_o_and_m_per_size'"
     ]
    }
   ],
   "source": [
    "hp_test = heat_pump()\n",
    "hp_test.construct_yaml_input_quantities('heatpump_model_inputs.yml')\n",
    "hp_test.hot_temperature_desired = Q_(np.array([90]*8760), 'degC')\n",
    "hp_test.hot_temperature_minimum = Q_(np.array([80]*8760), 'degC')\n",
    "hp_test.cold_temperature_available = Q_(np.array([60]*8760), 'degC')\n",
    "hp_test.gas_price_MMBTU = Q_(np.array([4.5] * 8760), 'USD / MMBtu')\n",
    "hp_test.carnot_efficiency_factor = Q_('0.50')\n",
    "hp_test.carnot_efficiency_factor_flag = False\n",
    "hp_test.refrigerant = 'R234a'\n",
    "\n",
    "hp_test.run_all('test')"
   ]
  },
  {
   "cell_type": "code",
   "execution_count": null,
   "metadata": {},
   "outputs": [],
   "source": []
  }
 ],
 "metadata": {
  "kernelspec": {
   "display_name": "Python 3.9.13 ('base')",
   "language": "python",
   "name": "python3"
  },
  "language_info": {
   "codemirror_mode": {
    "name": "ipython",
    "version": 3
   },
   "file_extension": ".py",
   "mimetype": "text/x-python",
   "name": "python",
   "nbconvert_exporter": "python",
   "pygments_lexer": "ipython3",
   "version": "3.9.13"
  },
  "vscode": {
   "interpreter": {
    "hash": "c6e4e9f98eb68ad3b7c296f83d20e6de614cb42e90992a65aa266555a3137d0d"
   }
  }
 },
 "nbformat": 4,
 "nbformat_minor": 2
}
