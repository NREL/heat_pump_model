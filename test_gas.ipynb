{
 "cells": [
  {
   "cell_type": "code",
   "execution_count": 1,
   "metadata": {},
   "outputs": [],
   "source": [
    "from gas_model import *\n",
    "from libraries import * \n",
    "from refrigerant_properties import *\n",
    "import numpy as np\n",
    "from utilities.unit_defs import Q_"
   ]
  },
  {
   "cell_type": "code",
   "execution_count": 2,
   "metadata": {},
   "outputs": [
    {
     "name": "stdout",
     "output_type": "stream",
     "text": [
      "Calculate Energy and Mass Called\n",
      "Hot Mass Flow Average: 0.406 kg/s\n",
      "Average Power Draw of Gas Heater: 1250.000 kW\n",
      "Maximum Power Draw of Gas Heater: 1250.000 kW\n",
      "Annual Gas in: 36.6 MMSCF\n",
      "Capital Cost: 3,070.93 $\n",
      "Capacity Factor: 1.000\n",
      "One Year Fixed O&M Costs: 170.61 $/yr\n",
      "One Year Variable O&M Costs: 298.90 $/yr\n",
      "One Year Energy Costs: 747,258.91 $/yr\n",
      "One Year Operating Costs: 747,728.42 $/yr\n",
      "Lifetime LCOH: 25.02 $/MMBtu\n",
      "Writing all output to a file\n",
      "3070.9270408395387 USD\n"
     ]
    }
   ],
   "source": [
    "gas_test = gas_heater()\n",
    "gas_test.construct_yaml_input_quantities('gas_model_inputs.yml')\n",
    "gas_test.hot_temperature = Q_(np.array([120]*8760), 'degC')\n",
    "gas_test.cold_temperature = Q_(np.array([60]*8760), 'degC')\n",
    "gas_test.run_all('gas_test')\n",
    "\n",
    "print(gas_test.capital_cost)"
   ]
  },
  {
   "cell_type": "code",
   "execution_count": null,
   "metadata": {},
   "outputs": [],
   "source": []
  }
 ],
 "metadata": {
  "kernelspec": {
   "display_name": "Python 3.9.13 ('base')",
   "language": "python",
   "name": "python3"
  },
  "language_info": {
   "codemirror_mode": {
    "name": "ipython",
    "version": 3
   },
   "file_extension": ".py",
   "mimetype": "text/x-python",
   "name": "python",
   "nbconvert_exporter": "python",
   "pygments_lexer": "ipython3",
   "version": "3.9.13"
  },
  "orig_nbformat": 4,
  "vscode": {
   "interpreter": {
    "hash": "c6e4e9f98eb68ad3b7c296f83d20e6de614cb42e90992a65aa266555a3137d0d"
   }
  }
 },
 "nbformat": 4,
 "nbformat_minor": 2
}
