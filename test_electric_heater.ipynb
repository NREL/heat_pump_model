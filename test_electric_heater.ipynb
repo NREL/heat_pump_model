{
 "cells": [
  {
   "cell_type": "code",
   "execution_count": 2,
   "metadata": {},
   "outputs": [],
   "source": [
    "from electric_heat_model import *\n",
    "from libraries import * \n",
    "from refrigerant_properties import *\n",
    "import numpy as np\n",
    "from utilities.unit_defs import Q_"
   ]
  },
  {
   "cell_type": "code",
   "execution_count": null,
   "metadata": {},
   "outputs": [],
   "source": [
    "heater_test = electric_heater()\n",
    "heater_test."
   ]
  },
  {
   "cell_type": "code",
   "execution_count": null,
   "metadata": {},
   "outputs": [],
   "source": []
  }
 ],
 "metadata": {
  "kernelspec": {
   "display_name": "Python 3.8.12 ('py_matlab')",
   "language": "python",
   "name": "python3"
  },
  "language_info": {
   "codemirror_mode": {
    "name": "ipython",
    "version": 3
   },
   "file_extension": ".py",
   "mimetype": "text/x-python",
   "name": "python",
   "nbconvert_exporter": "python",
   "pygments_lexer": "ipython3",
   "version": "3.8.12"
  },
  "orig_nbformat": 4,
  "vscode": {
   "interpreter": {
    "hash": "0d4935a8bb39d98c893ca66b62abc8cf4b059e46c469c990c66e8a9517e82ce8"
   }
  }
 },
 "nbformat": 4,
 "nbformat_minor": 2
}
