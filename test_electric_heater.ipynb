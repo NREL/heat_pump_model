{
 "cells": [
  {
   "cell_type": "code",
   "execution_count": 6,
   "metadata": {},
   "outputs": [],
   "source": [
    "from electric_heat_model import *\n",
    "from libraries import * \n",
    "from refrigerant_properties import *\n",
    "import numpy as np\n",
    "from utilities.unit_defs import Q_"
   ]
  },
  {
   "cell_type": "code",
   "execution_count": 7,
   "metadata": {},
   "outputs": [
    {
     "name": "stdout",
     "output_type": "stream",
     "text": [
      "Calculate Energy and Mass Called\n",
      "Hot Mass Flow Average: 0.00042 kg/s\n",
      "Average Power Draw of Heat Pump: 1.087 kW\n",
      "Maximum Power Draw of Heat Pump: 1.087 kW\n",
      "Annual Electricity in: 9,521.7 kWh\n",
      "Capital Cost: 100.00 $\n",
      "Capacity Factor: 1.000\n",
      "One Year Fixed O&M Costs: 0.00 $·MMBtu/h/kW/yr\n",
      "One Year Variable O&M Costs: 0.30 $/yr\n",
      "One Year Energy Costs: 130.46 $/yr\n",
      "One Year Operating Costs: 0.45 $·MMBtu/h/kW/yr\n",
      "Lifetime LCOH: 4.49 $/MMBtu\n"
     ]
    }
   ],
   "source": [
    "heater_test = electric_heater()\n",
    "heater_test.calculate_energy_and_mass_flow()\n",
    "heater_test.calculate_costs()\n",
    "print(heater_test.process_heat_requirement)\n"
   ]
  },
  {
   "cell_type": "code",
   "execution_count": null,
   "metadata": {},
   "outputs": [],
   "source": []
  }
 ],
 "metadata": {
  "kernelspec": {
   "display_name": "Python 3.9.12 ('base')",
   "language": "python",
   "name": "python3"
  },
  "language_info": {
   "codemirror_mode": {
    "name": "ipython",
    "version": 3
   },
   "file_extension": ".py",
   "mimetype": "text/x-python",
   "name": "python",
   "nbconvert_exporter": "python",
   "pygments_lexer": "ipython3",
   "version": "3.9.13"
  },
  "orig_nbformat": 4,
  "vscode": {
   "interpreter": {
    "hash": "37a927648fdd1c9cb67b01c936c704221e4033da9295afcb0a23fad6702e6998"
   }
  }
 },
 "nbformat": 4,
 "nbformat_minor": 2
}
