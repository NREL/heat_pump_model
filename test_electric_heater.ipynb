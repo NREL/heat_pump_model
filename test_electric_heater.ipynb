{
 "cells": [
  {
   "cell_type": "code",
   "execution_count": 1,
   "metadata": {},
   "outputs": [],
   "source": [
    "from electric_model import *\n",
    "from libraries import * \n",
    "from refrigerant_properties import *\n",
    "import numpy as np\n",
    "from utilities.unit_defs import Q_"
   ]
  },
  {
   "cell_type": "code",
   "execution_count": 2,
   "metadata": {},
   "outputs": [
    {
     "name": "stdout",
     "output_type": "stream",
     "text": [
      "Calculate Energy and Mass Called\n",
      "Hot Mass Flow Average: 0.406 kg/s\n",
      "Average Power Draw of Electric Heater: 1086.957 kW\n",
      "Maximum Power Draw of Electric Heater: 1086.957 kW\n",
      "Annual Electricity in: 9,521,739.1 kWh\n",
      "Capital Cost: 100,000.00 $\n",
      "Capacity Factor: 1.000\n",
      "One Year Fixed O&M Costs: 3.41 $·MMBtu/h/kW/yr\n",
      "One Year Variable O&M Costs: 298.90 $/yr\n",
      "One Year Energy Costs: 130,456.52 $/yr\n",
      "One Year Operating Costs: 449.57 $·MMBtu/h/kW/yr\n",
      "Lifetime LCOH: 4.58 $/MMBtu\n",
      "1.0 megawatt\n"
     ]
    }
   ],
   "source": [
    "heater_test = electric_heater()\n",
    "heater_test.construct_yaml_input_quantities('electric_model_inputs.yml')\n",
    "heater_test.calculate_energy_and_mass_flow()\n",
    "heater_test.calculate_costs()\n",
    "print(heater_test.process_heat_requirement)\n"
   ]
  }
 ],
 "metadata": {
  "kernelspec": {
   "display_name": "Python 3.9.13 ('base')",
   "language": "python",
   "name": "python3"
  },
  "language_info": {
   "codemirror_mode": {
    "name": "ipython",
    "version": 3
   },
   "file_extension": ".py",
   "mimetype": "text/x-python",
   "name": "python",
   "nbconvert_exporter": "python",
   "pygments_lexer": "ipython3",
   "version": "3.9.13"
  },
  "orig_nbformat": 4,
  "vscode": {
   "interpreter": {
    "hash": "c6e4e9f98eb68ad3b7c296f83d20e6de614cb42e90992a65aa266555a3137d0d"
   }
  }
 },
 "nbformat": 4,
 "nbformat_minor": 2
}
