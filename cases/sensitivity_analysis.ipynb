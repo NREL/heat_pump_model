{
 "metadata": {
  "language_info": {
   "codemirror_mode": {
    "name": "ipython",
    "version": 3
   },
   "file_extension": ".py",
   "mimetype": "text/x-python",
   "name": "python",
   "nbconvert_exporter": "python",
   "pygments_lexer": "ipython3",
   "version": "3.7.6-final"
  },
  "orig_nbformat": 2,
  "kernelspec": {
   "name": "python3",
   "display_name": "Python 3.7.6 64-bit ('miniconda3': virtualenv)",
   "metadata": {
    "interpreter": {
     "hash": "34a06f1f28489e42147210373619e2759b44eb39e5fe3ea03ac044beadbc7700"
    }
   }
  }
 },
 "nbformat": 4,
 "nbformat_minor": 2,
 "cells": [
  {
   "cell_type": "code",
   "execution_count": 1,
   "metadata": {},
   "outputs": [],
   "source": [
    "# Importing Libraries\n",
    "from heat_pump_model import heat_pump\n",
    "from libraries import * \n",
    "import pandas as pd\n",
    "import numpy as np  \n",
    "import plotly.graph_objects as go\n",
    "\n",
    "# Providing the Temperature inputs for the COP\n",
    "cop_temp_dict = {\n",
    "    'COP 6': [95, 51.1],\n",
    "    'COP 5': [95, 43.3],\n",
    "    'COP 4': [95, 32.8],\n",
    "    'COP 3': [95, 19.5],\n",
    "    'COP 2': [112.8, 15],\n",
    "}\n",
    "\n",
    "# Providing the fixed natural gas prices\n",
    "ng_prices = []\n",
    "for i in range(18,101):ng_prices.append(i/10)\n",
    "\n",
    "columns = ['COP 2', 'COP 3', 'COP 4', 'COP 5', 'COP 6']\n",
    "df = pd.DataFrame(0.0, index = range(len(ng_prices)), columns = columns)\n",
    "df['NG price'] = ng_prices\n"
   ]
  },
  {
   "cell_type": "code",
   "execution_count": 2,
   "metadata": {
    "tags": [
     "outputPrepend"
    ]
   },
   "outputs": [
    {
     "output_type": "stream",
     "name": "stdout",
     "text": [
      "Costs: $ 42152.75\n",
      "Gas Lifetime LCOH:  9.627  $/MMBTU\n",
      "Warning: This program recommends a refrigerant for use. This recommendation is only a first step. \n",
      "Refrigerant selection should be further analyzed before implementation.\n",
      "\n",
      "Potential refigerants for this process include:  ['Ammonia', 'Butane', 'Ethanol', 'Methanol', 'R11', 'R113', 'R114', 'R12', 'R123', 'R1233zd(E)', 'R1234ze(E)', 'R1234ze(Z)', 'R124', 'R13I1', 'R141b', 'R142b', 'R152A', 'R21', 'R236EA', 'R236FA', 'R245ca', 'R245fa', 'R365MFC', 'R40', 'RC318', 'n-Pentane', 'Water']\n",
      "\n",
      "The recommended refrigerant for this process is:  R218\n",
      "Warning this refrigerant was selected for its low critical pressure, \n",
      "all refrigerants should be examined in a detailed analysis.\n",
      "\n",
      "The refrigerant previously selected went super critical or did not meet \n",
      "other parameters, for the purposes of the COP calculation the refrigerant \n",
      "will be replaced with R245ca.\n",
      "Estimated Compressor Efficiency: 0.9\n",
      "\n",
      "Calculate COP Called\n",
      "Theoretical COP:  8.38\n",
      "Estimated COP:  5.62\n",
      "Calculate Energy and Mass Called\n",
      "Hot Mass Flow Average:  17.877  kg/s\n",
      "Cold Average Outlet Temperature:  29.56 °C\n",
      "Average Power Draw of Heat Pump:  16.05  kW\n",
      "Maximum Power Draw of Heat Pump:  52.1  kW\n",
      "Annual Electricity in:  140583.2 kWh\n",
      "Calculate Heat Pump Costs\n",
      "Capital Cost: $ 30765.62\n",
      "One Year Fixed O&M Costs: $ 11.8\n",
      "One Year Variable O&M Costs: $ 219.0\n",
      "One Year Energy Costs: $ 40228.16\n",
      "One Year Operating Costs: $ 40458.96\n",
      "Lifetime LCOH:  9.588  $/MMBTU\n",
      "Calculate Natural Gas Comparison\n",
      "Gas Capital Cost: $ 312.5\n",
      "Gas One Year Fixed O&M Costs: $ 50\n",
      "Gas One Year Variable O&M Costs: $ 54.75\n",
      "Gas One Year Energy Costs: $ 42486.0\n",
      "Gas One Year Operating Costs: $ 42590.75\n",
      "Gas Lifetime LCOH:  9.727  $/MMBTU\n",
      "Warning: This program recommends a refrigerant for use. This recommendation is only a first step. \n",
      "Refrigerant selection should be further analyzed before implementation.\n",
      "\n",
      "Potential refigerants for this process include:  ['Ammonia', 'Butane', 'Ethanol', 'Methanol', 'R11', 'R113', 'R114', 'R12', 'R123', 'R1233zd(E)', 'R1234ze(E)', 'R1234ze(Z)', 'R124', 'R13I1', 'R141b', 'R142b', 'R152A', 'R21', 'R236EA', 'R236FA', 'R245ca', 'R245fa', 'R365MFC', 'R40', 'RC318', 'n-Pentane', 'Water']\n",
      "\n",
      "The recommended refrigerant for this process is:  R218\n",
      "Warning this refrigerant was selected for its low critical pressure, \n",
      "all refrigerants should be examined in a detailed analysis.\n",
      "\n",
      "The refrigerant previously selected went super critical or did not meet \n",
      "other parameters, for the purposes of the COP calculation the refrigerant \n",
      "will be replaced with R245ca.\n",
      "Estimated Compressor Efficiency: 0.9\n",
      "\n",
      "Calculate COP Called\n",
      "Theoretical COP:  8.38\n",
      "Estimated COP:  5.62\n",
      "Calculate Energy and Mass Called\n",
      "Hot Mass Flow Average:  17.877  kg/s\n",
      "Cold Average Outlet Temperature:  29.56 °C\n",
      "Average Power Draw of Heat Pump:  16.05  kW\n",
      "Maximum Power Draw of Heat Pump:  52.1  kW\n",
      "Annual Electricity in:  140583.2 kWh\n",
      "Calculate Heat Pump Costs\n",
      "Capital Cost: $ 30765.62\n",
      "One Year Fixed O&M Costs: $ 11.8\n",
      "One Year Variable O&M Costs: $ 219.0\n",
      "One Year Energy Costs: $ 40368.74\n",
      "One Year Operating Costs: $ 40599.54\n",
      "Lifetime LCOH:  9.621  $/MMBTU\n",
      "Calculate Natural Gas Comparison\n",
      "Gas Capital Cost: $ 312.5\n",
      "Gas One Year Fixed O&M Costs: $ 50\n",
      "Gas One Year Variable O&M Costs: $ 54.75\n",
      "Gas One Year Energy Costs: $ 42486.0\n",
      "Gas One Year Operating Costs: $ 42590.75\n",
      "Gas Lifetime LCOH:  9.727  $/MMBTU\n",
      "Warning: This program recommends a refrigerant for use. This recommendation is only a first step. \n",
      "Refrigerant selection should be further analyzed before implementation.\n",
      "\n",
      "Potential refigerants for this process include:  ['Ammonia', 'Butane', 'Ethanol', 'Methanol', 'R11', 'R113', 'R114', 'R12', 'R123', 'R1233zd(E)', 'R1234ze(E)', 'R1234ze(Z)', 'R124', 'R13I1', 'R141b', 'R142b', 'R152A', 'R21', 'R236EA', 'R236FA', 'R245ca', 'R245fa', 'R365MFC', 'R40', 'RC318', 'n-Pentane', 'Water']\n",
      "\n",
      "The recommended refrigerant for this process is:  R218\n",
      "Warning this refrigerant was selected for its low critical pressure, \n",
      "all refrigerants should be examined in a detailed analysis.\n",
      "\n",
      "The refrigerant previously selected went super critical or did not meet \n",
      "other parameters, for the purposes of the COP calculation the refrigerant \n",
      "will be replaced with R245ca.\n",
      "Estimated Compressor Efficiency: 0.9\n",
      "\n",
      "Calculate COP Called\n",
      "Theoretical COP:  8.38\n",
      "Estimated COP:  5.62\n",
      "Calculate Energy and Mass Called\n",
      "Hot Mass Flow Average:  17.877  kg/s\n",
      "Cold Average Outlet Temperature:  29.56 °C\n",
      "Average Power Draw of Heat Pump:  16.05  kW\n",
      "Maximum Power Draw of Heat Pump:  52.1  kW\n",
      "Annual Electricity in:  140583.2 kWh\n",
      "Calculate Heat Pump Costs\n",
      "Capital Cost: $ 30765.62\n",
      "One Year Fixed O&M Costs: $ 11.8\n",
      "One Year Variable O&M Costs: $ 219.0\n",
      "One Year Energy Costs: $ 40509.32\n",
      "One Year Operating Costs: $ 40740.12\n",
      "Lifetime LCOH:  9.653  $/MMBTU\n",
      "Calculate Natural Gas Comparison\n",
      "Gas Capital Cost: $ 312.5\n",
      "Gas One Year Fixed O&M Costs: $ 50\n",
      "Gas One Year Variable O&M Costs: $ 54.75\n",
      "Gas One Year Energy Costs: $ 42486.0\n",
      "Gas One Year Operating Costs: $ 42590.75\n",
      "Gas Lifetime LCOH:  9.727  $/MMBTU\n",
      "Warning: This program recommends a refrigerant for use. This recommendation is only a first step. \n",
      "Refrigerant selection should be further analyzed before implementation.\n",
      "\n",
      "Potential refigerants for this process include:  ['Ammonia', 'Butane', 'Ethanol', 'Methanol', 'R11', 'R113', 'R114', 'R12', 'R123', 'R1233zd(E)', 'R1234ze(E)', 'R1234ze(Z)', 'R124', 'R13I1', 'R141b', 'R142b', 'R152A', 'R21', 'R236EA', 'R236FA', 'R245ca', 'R245fa', 'R365MFC', 'R40', 'RC318', 'n-Pentane', 'Water']\n",
      "\n",
      "The recommended refrigerant for this process is:  R218\n",
      "Warning this refrigerant was selected for its low critical pressure, \n",
      "all refrigerants should be examined in a detailed analysis.\n",
      "\n",
      "The refrigerant previously selected went super critical or did not meet \n",
      "other parameters, for the purposes of the COP calculation the refrigerant \n",
      "will be replaced with R245ca.\n",
      "Estimated Compressor Efficiency: 0.9\n",
      "\n",
      "Calculate COP Called\n",
      "Theoretical COP:  8.38\n",
      "Estimated COP:  5.62\n",
      "Calculate Energy and Mass Called\n",
      "Hot Mass Flow Average:  17.877  kg/s\n",
      "Cold Average Outlet Temperature:  29.56 °C\n",
      "Average Power Draw of Heat Pump:  16.05  kW\n",
      "Maximum Power Draw of Heat Pump:  52.1  kW\n",
      "Annual Electricity in:  140583.2 kWh\n",
      "Calculate Heat Pump Costs\n",
      "Capital Cost: $ 30765.62\n",
      "One Year Fixed O&M Costs: $ 11.8\n",
      "One Year Variable O&M Costs: $ 219.0\n",
      "One Year Energy Costs: $ 40649.91\n",
      "One Year Operating Costs: $ 40880.71\n",
      "Lifetime LCOH:  9.685  $/MMBTU\n",
      "Calculate Natural Gas Comparison\n",
      "Gas Capital Cost: $ 312.5\n",
      "Gas One Year Fixed O&M Costs: $ 50\n",
      "Gas One Year Variable O&M Costs: $ 54.75\n",
      "Gas One Year Energy Costs: $ 42924.0\n",
      "Gas One Year Operating Costs: $ 43028.75\n",
      "Gas Lifetime LCOH:  9.827  $/MMBTU\n",
      "Warning: This program recommends a refrigerant for use. This recommendation is only a first step. \n",
      "Refrigerant selection should be further analyzed before implementation.\n",
      "\n",
      "Potential refigerants for this process include:  ['Ammonia', 'Butane', 'Ethanol', 'Methanol', 'R11', 'R113', 'R114', 'R12', 'R123', 'R1233zd(E)', 'R1234ze(E)', 'R1234ze(Z)', 'R124', 'R13I1', 'R141b', 'R142b', 'R152A', 'R21', 'R236EA', 'R236FA', 'R245ca', 'R245fa', 'R365MFC', 'R40', 'RC318', 'n-Pentane', 'Water']\n",
      "\n",
      "The recommended refrigerant for this process is:  R218\n",
      "Warning this refrigerant was selected for its low critical pressure, \n",
      "all refrigerants should be examined in a detailed analysis.\n",
      "\n",
      "The refrigerant previously selected went super critical or did not meet \n",
      "other parameters, for the purposes of the COP calculation the refrigerant \n",
      "will be replaced with R245ca.\n",
      "Estimated Compressor Efficiency: 0.9\n",
      "\n",
      "Calculate COP Called\n",
      "Theoretical COP:  8.38\n",
      "Estimated COP:  5.62\n",
      "Calculate Energy and Mass Called\n",
      "Hot Mass Flow Average:  17.877  kg/s\n",
      "Cold Average Outlet Temperature:  29.56 °C\n",
      "Average Power Draw of Heat Pump:  16.05  kW\n",
      "Maximum Power Draw of Heat Pump:  52.1  kW\n",
      "Annual Electricity in:  140583.2 kWh\n",
      "Calculate Heat Pump Costs\n",
      "Capital Cost: $ 30765.62\n",
      "One Year Fixed O&M Costs: $ 11.8\n",
      "One Year Variable O&M Costs: $ 219.0\n",
      "One Year Energy Costs: $ 40790.49\n",
      "One Year Operating Costs: $ 41021.29\n",
      "Lifetime LCOH:  9.717  $/MMBTU\n",
      "Calculate Natural Gas Comparison\n",
      "Gas Capital Cost: $ 312.5\n",
      "Gas One Year Fixed O&M Costs: $ 50\n",
      "Gas One Year Variable O&M Costs: $ 54.75\n",
      "Gas One Year Energy Costs: $ 42924.0\n",
      "Gas One Year Operating Costs: $ 43028.75\n",
      "Gas Lifetime LCOH:  9.827  $/MMBTU\n",
      "Warning: This program recommends a refrigerant for use. This recommendation is only a first step. \n",
      "Refrigerant selection should be further analyzed before implementation.\n",
      "\n",
      "Potential refigerants for this process include:  ['Ammonia', 'Butane', 'Ethanol', 'Methanol', 'R11', 'R113', 'R114', 'R12', 'R123', 'R1233zd(E)', 'R1234ze(E)', 'R1234ze(Z)', 'R124', 'R13I1', 'R141b', 'R142b', 'R152A', 'R21', 'R236EA', 'R236FA', 'R245ca', 'R245fa', 'R365MFC', 'R40', 'RC318', 'n-Pentane', 'Water']\n",
      "\n",
      "The recommended refrigerant for this process is:  R218\n",
      "Warning this refrigerant was selected for its low critical pressure, \n",
      "all refrigerants should be examined in a detailed analysis.\n",
      "\n",
      "The refrigerant previously selected went super critical or did not meet \n",
      "other parameters, for the purposes of the COP calculation the refrigerant \n",
      "will be replaced with R245ca.\n",
      "Estimated Compressor Efficiency: 0.9\n",
      "\n",
      "Calculate COP Called\n",
      "Theoretical COP:  8.38\n",
      "Estimated COP:  5.62\n",
      "Calculate Energy and Mass Called\n",
      "Hot Mass Flow Average:  17.877  kg/s\n",
      "Cold Average Outlet Temperature:  29.56 °C\n",
      "Average Power Draw of Heat Pump:  16.05  kW\n",
      "Maximum Power Draw of Heat Pump:  52.1  kW\n",
      "Annual Electricity in:  140583.2 kWh\n",
      "Calculate Heat Pump Costs\n",
      "Capital Cost: $ 30765.62\n",
      "One Year Fixed O&M Costs: $ 11.8\n",
      "One Year Variable O&M Costs: $ 219.0\n",
      "One Year Energy Costs: $ 40931.07\n",
      "One Year Operating Costs: $ 41161.87\n",
      "Lifetime LCOH:  9.749  $/MMBTU\n",
      "Calculate Natural Gas Comparison\n",
      "Gas Capital Cost: $ 312.5\n",
      "Gas One Year Fixed O&M Costs: $ 50\n",
      "Gas One Year Variable O&M Costs: $ 54.75\n",
      "Gas One Year Energy Costs: $ 42924.0\n",
      "Gas One Year Operating Costs: $ 43028.75\n",
      "Gas Lifetime LCOH:  9.827  $/MMBTU\n",
      "Warning: This program recommends a refrigerant for use. This recommendation is only a first step. \n",
      "Refrigerant selection should be further analyzed before implementation.\n",
      "\n",
      "Potential refigerants for this process include:  ['Ammonia', 'Butane', 'Ethanol', 'Methanol', 'R11', 'R113', 'R114', 'R12', 'R123', 'R1233zd(E)', 'R1234ze(E)', 'R1234ze(Z)', 'R124', 'R13I1', 'R141b', 'R142b', 'R152A', 'R21', 'R236EA', 'R236FA', 'R245ca', 'R245fa', 'R365MFC', 'R40', 'RC318', 'n-Pentane', 'Water']\n",
      "\n",
      "The recommended refrigerant for this process is:  R218\n",
      "Warning this refrigerant was selected for its low critical pressure, \n",
      "all refrigerants should be examined in a detailed analysis.\n",
      "\n",
      "The refrigerant previously selected went super critical or did not meet \n",
      "other parameters, for the purposes of the COP calculation the refrigerant \n",
      "will be replaced with R245ca.\n",
      "Estimated Compressor Efficiency: 0.9\n",
      "\n",
      "Calculate COP Called\n",
      "Theoretical COP:  8.38\n",
      "Estimated COP:  5.62\n",
      "Calculate Energy and Mass Called\n",
      "Hot Mass Flow Average:  17.877  kg/s\n",
      "Cold Average Outlet Temperature:  29.56 °C\n",
      "Average Power Draw of Heat Pump:  16.05  kW\n",
      "Maximum Power Draw of Heat Pump:  52.1  kW\n",
      "Annual Electricity in:  140583.2 kWh\n",
      "Calculate Heat Pump Costs\n",
      "Capital Cost: $ 30765.62\n",
      "One Year Fixed O&M Costs: $ 11.8\n",
      "One Year Variable O&M Costs: $ 219.0\n",
      "One Year Energy Costs: $ 41071.66\n",
      "One Year Operating Costs: $ 41302.46\n",
      "Lifetime LCOH:  9.781  $/MMBTU\n",
      "Calculate Natural Gas Comparison\n",
      "Gas Capital Cost: $ 312.5\n",
      "Gas One Year Fixed O&M Costs: $ 50\n",
      "Gas One Year Variable O&M Costs: $ 54.75\n",
      "Gas One Year Energy Costs: $ 43362.0\n",
      "Gas One Year Operating Costs: $ 43466.75\n",
      "Gas Lifetime LCOH:  9.927  $/MMBTU\n",
      "Warning: This program recommends a refrigerant for use. This recommendation is only a first step. \n",
      "Refrigerant selection should be further analyzed before implementation.\n",
      "\n",
      "Potential refigerants for this process include:  ['Ammonia', 'Butane', 'Ethanol', 'Methanol', 'R11', 'R113', 'R114', 'R12', 'R123', 'R1233zd(E)', 'R1234ze(E)', 'R1234ze(Z)', 'R124', 'R13I1', 'R141b', 'R142b', 'R152A', 'R21', 'R236EA', 'R236FA', 'R245ca', 'R245fa', 'R365MFC', 'R40', 'RC318', 'n-Pentane', 'Water']\n",
      "\n",
      "The recommended refrigerant for this process is:  R218\n",
      "Warning this refrigerant was selected for its low critical pressure, \n",
      "all refrigerants should be examined in a detailed analysis.\n",
      "\n",
      "The refrigerant previously selected went super critical or did not meet \n",
      "other parameters, for the purposes of the COP calculation the refrigerant \n",
      "will be replaced with R245ca.\n",
      "Estimated Compressor Efficiency: 0.9\n",
      "\n",
      "Calculate COP Called\n",
      "Theoretical COP:  8.38\n",
      "Estimated COP:  5.62\n",
      "Calculate Energy and Mass Called\n",
      "Hot Mass Flow Average:  17.877  kg/s\n",
      "Cold Average Outlet Temperature:  29.56 °C\n",
      "Average Power Draw of Heat Pump:  16.05  kW\n",
      "Maximum Power Draw of Heat Pump:  52.1  kW\n",
      "Annual Electricity in:  140583.2 kWh\n",
      "Calculate Heat Pump Costs\n",
      "Capital Cost: $ 30765.62\n",
      "One Year Fixed O&M Costs: $ 11.8\n",
      "One Year Variable O&M Costs: $ 219.0\n",
      "One Year Energy Costs: $ 41212.24\n",
      "One Year Operating Costs: $ 41443.04\n",
      "Lifetime LCOH:  9.813  $/MMBTU\n",
      "Calculate Natural Gas Comparison\n",
      "Gas Capital Cost: $ 312.5\n",
      "Gas One Year Fixed O&M Costs: $ 50\n",
      "Gas One Year Variable O&M Costs: $ 54.75\n",
      "Gas One Year Energy Costs: $ 43362.0\n",
      "Gas One Year Operating Costs: $ 43466.75\n",
      "Gas Lifetime LCOH:  9.927  $/MMBTU\n",
      "Warning: This program recommends a refrigerant for use. This recommendation is only a first step. \n",
      "Refrigerant selection should be further analyzed before implementation.\n",
      "\n",
      "Potential refigerants for this process include:  ['Ammonia', 'Butane', 'Ethanol', 'Methanol', 'R11', 'R113', 'R114', 'R12', 'R123', 'R1233zd(E)', 'R1234ze(E)', 'R1234ze(Z)', 'R124', 'R13I1', 'R141b', 'R142b', 'R152A', 'R21', 'R236EA', 'R236FA', 'R245ca', 'R245fa', 'R365MFC', 'R40', 'RC318', 'n-Pentane', 'Water']\n",
      "\n",
      "The recommended refrigerant for this process is:  R218\n",
      "Warning this refrigerant was selected for its low critical pressure, \n",
      "all refrigerants should be examined in a detailed analysis.\n",
      "\n",
      "The refrigerant previously selected went super critical or did not meet \n",
      "other parameters, for the purposes of the COP calculation the refrigerant \n",
      "will be replaced with R245ca.\n",
      "Estimated Compressor Efficiency: 0.9\n",
      "\n",
      "Calculate COP Called\n",
      "Theoretical COP:  8.38\n",
      "Estimated COP:  5.62\n",
      "Calculate Energy and Mass Called\n",
      "Hot Mass Flow Average:  17.877  kg/s\n",
      "Cold Average Outlet Temperature:  29.56 °C\n",
      "Average Power Draw of Heat Pump:  16.05  kW\n",
      "Maximum Power Draw of Heat Pump:  52.1  kW\n",
      "Annual Electricity in:  140583.2 kWh\n",
      "Calculate Heat Pump Costs\n",
      "Capital Cost: $ 30765.62\n",
      "One Year Fixed O&M Costs: $ 11.8\n",
      "One Year Variable O&M Costs: $ 219.0\n",
      "One Year Energy Costs: $ 41352.82\n",
      "One Year Operating Costs: $ 41583.62\n",
      "Lifetime LCOH:  9.845  $/MMBTU\n",
      "Calculate Natural Gas Comparison\n",
      "Gas Capital Cost: $ 312.5\n",
      "Gas One Year Fixed O&M Costs: $ 50\n",
      "Gas One Year Variable O&M Costs: $ 54.75\n",
      "Gas One Year Energy Costs: $ 43362.0\n",
      "Gas One Year Operating Costs: $ 43466.75\n",
      "Gas Lifetime LCOH:  9.927  $/MMBTU\n",
      "Warning: This program recommends a refrigerant for use. This recommendation is only a first step. \n",
      "Refrigerant selection should be further analyzed before implementation.\n",
      "\n",
      "Potential refigerants for this process include:  ['Ammonia', 'Butane', 'Ethanol', 'Methanol', 'R11', 'R113', 'R114', 'R12', 'R123', 'R1233zd(E)', 'R1234ze(E)', 'R1234ze(Z)', 'R124', 'R13I1', 'R141b', 'R142b', 'R152A', 'R21', 'R236EA', 'R236FA', 'R245ca', 'R245fa', 'R365MFC', 'R40', 'RC318', 'n-Pentane', 'Water']\n",
      "\n",
      "The recommended refrigerant for this process is:  R218\n",
      "Warning this refrigerant was selected for its low critical pressure, \n",
      "all refrigerants should be examined in a detailed analysis.\n",
      "\n",
      "The refrigerant previously selected went super critical or did not meet \n",
      "other parameters, for the purposes of the COP calculation the refrigerant \n",
      "will be replaced with R245ca.\n",
      "Estimated Compressor Efficiency: 0.9\n",
      "\n",
      "Calculate COP Called\n",
      "Theoretical COP:  8.38\n",
      "Estimated COP:  5.62\n",
      "Calculate Energy and Mass Called\n",
      "Hot Mass Flow Average:  17.877  kg/s\n",
      "Cold Average Outlet Temperature:  29.56 °C\n",
      "Average Power Draw of Heat Pump:  16.05  kW\n",
      "Maximum Power Draw of Heat Pump:  52.1  kW\n",
      "Annual Electricity in:  140583.2 kWh\n",
      "Calculate Heat Pump Costs\n",
      "Capital Cost: $ 30765.62\n",
      "One Year Fixed O&M Costs: $ 11.8\n",
      "One Year Variable O&M Costs: $ 219.0\n",
      "One Year Energy Costs: $ 41493.41\n",
      "One Year Operating Costs: $ 41724.21\n",
      "Lifetime LCOH:  9.877  $/MMBTU\n",
      "Calculate Natural Gas Comparison\n",
      "Gas Capital Cost: $ 312.5\n",
      "Gas One Year Fixed O&M Costs: $ 50\n",
      "Gas One Year Variable O&M Costs: $ 54.75\n",
      "Gas One Year Energy Costs: $ 43800.0\n",
      "Gas One Year Operating Costs: $ 43904.75\n",
      "Gas Lifetime LCOH:  10.027  $/MMBTU\n",
      "Warning: This program recommends a refrigerant for use. This recommendation is only a first step. \n",
      "Refrigerant selection should be further analyzed before implementation.\n",
      "\n",
      "Potential refigerants for this process include:  ['Ammonia', 'Butane', 'Ethanol', 'Methanol', 'R11', 'R113', 'R114', 'R12', 'R123', 'R1233zd(E)', 'R1234ze(E)', 'R1234ze(Z)', 'R124', 'R13I1', 'R141b', 'R142b', 'R152A', 'R21', 'R236EA', 'R236FA', 'R245ca', 'R245fa', 'R365MFC', 'R40', 'RC318', 'n-Pentane', 'Water']\n",
      "\n",
      "The recommended refrigerant for this process is:  R218\n",
      "Warning this refrigerant was selected for its low critical pressure, \n",
      "all refrigerants should be examined in a detailed analysis.\n",
      "\n",
      "The refrigerant previously selected went super critical or did not meet \n",
      "other parameters, for the purposes of the COP calculation the refrigerant \n",
      "will be replaced with R245ca.\n",
      "Estimated Compressor Efficiency: 0.9\n",
      "\n",
      "Calculate COP Called\n",
      "Theoretical COP:  8.38\n",
      "Estimated COP:  5.62\n",
      "Calculate Energy and Mass Called\n",
      "Hot Mass Flow Average:  17.877  kg/s\n",
      "Cold Average Outlet Temperature:  29.56 °C\n",
      "Average Power Draw of Heat Pump:  16.05  kW\n",
      "Maximum Power Draw of Heat Pump:  52.1  kW\n",
      "Annual Electricity in:  140583.2 kWh\n",
      "Calculate Heat Pump Costs\n",
      "Capital Cost: $ 30765.62\n",
      "One Year Fixed O&M Costs: $ 11.8\n",
      "One Year Variable O&M Costs: $ 219.0\n",
      "One Year Energy Costs: $ 41633.99\n",
      "One Year Operating Costs: $ 41864.79\n",
      "Lifetime LCOH:  9.909  $/MMBTU\n",
      "Calculate Natural Gas Comparison\n",
      "Gas Capital Cost: $ 312.5\n",
      "Gas One Year Fixed O&M Costs: $ 50\n",
      "Gas One Year Variable O&M Costs: $ 54.75\n",
      "Gas One Year Energy Costs: $ 43800.0\n",
      "Gas One Year Operating Costs: $ 43904.75\n",
      "Gas Lifetime LCOH:  10.027  $/MMBTU\n",
      "Warning: This program recommends a refrigerant for use. This recommendation is only a first step. \n",
      "Refrigerant selection should be further analyzed before implementation.\n",
      "\n",
      "Potential refigerants for this process include:  ['Ammonia', 'Butane', 'Ethanol', 'Methanol', 'R11', 'R113', 'R114', 'R12', 'R123', 'R1233zd(E)', 'R1234ze(E)', 'R1234ze(Z)', 'R124', 'R13I1', 'R141b', 'R142b', 'R152A', 'R21', 'R236EA', 'R236FA', 'R245ca', 'R245fa', 'R365MFC', 'R40', 'RC318', 'n-Pentane', 'Water']\n",
      "\n",
      "The recommended refrigerant for this process is:  R218\n",
      "Warning this refrigerant was selected for its low critical pressure, \n",
      "all refrigerants should be examined in a detailed analysis.\n",
      "\n",
      "The refrigerant previously selected went super critical or did not meet \n",
      "other parameters, for the purposes of the COP calculation the refrigerant \n",
      "will be replaced with R245ca.\n",
      "Estimated Compressor Efficiency: 0.9\n",
      "\n",
      "Calculate COP Called\n",
      "Theoretical COP:  8.38\n",
      "Estimated COP:  5.62\n",
      "Calculate Energy and Mass Called\n",
      "Hot Mass Flow Average:  17.877  kg/s\n",
      "Cold Average Outlet Temperature:  29.56 °C\n",
      "Average Power Draw of Heat Pump:  16.05  kW\n",
      "Maximum Power Draw of Heat Pump:  52.1  kW\n",
      "Annual Electricity in:  140583.2 kWh\n",
      "Calculate Heat Pump Costs\n",
      "Capital Cost: $ 30765.62\n",
      "One Year Fixed O&M Costs: $ 11.8\n",
      "One Year Variable O&M Costs: $ 219.0\n",
      "One Year Energy Costs: $ 41774.57\n",
      "One Year Operating Costs: $ 42005.37\n",
      "Lifetime LCOH:  9.941  $/MMBTU\n",
      "Calculate Natural Gas Comparison\n",
      "Gas Capital Cost: $ 312.5\n",
      "Gas One Year Fixed O&M Costs: $ 50\n",
      "Gas One Year Variable O&M Costs: $ 54.75\n",
      "Gas One Year Energy Costs: $ 43800.0\n",
      "Gas One Year Operating Costs: $ 43904.75\n",
      "Gas Lifetime LCOH:  10.027  $/MMBTU\n"
     ]
    }
   ],
   "source": [
    "hp = heat_pump()\n",
    "hp.hot_temperature_minimum = 90\n",
    "hp.process_heat_requirement = [0,1]*12 * 365\n",
    "\n",
    "#hp.carbon_price_per_ton = 20.0\n",
    "\n",
    "for cop in columns:\n",
    "    hp.hot_temperature_desired = cop_temp_dict[cop][0]\n",
    "    hp.cold_temperature_available = cop_temp_dict[cop][1]\n",
    "\n",
    "    for i in df.index:\n",
    "        hp.gas_price_MMBTU = [df.loc[i,'NG price']]*8760\n",
    "        #print(df.loc[i,'NG price'])\n",
    "\n",
    "        delta = 1.0\n",
    "        while abs(delta) > 0.1:\n",
    "            # Calc loop\n",
    "            hp.calculate_COP()\n",
    "            hp.calculate_energy_and_mass_flow()\n",
    "            hp.calculate_heat_pump_costs()\n",
    "            hp.calculate_natural_gas_comparison()\n",
    "            \n",
    "            delta = hp.gas_LCOH - hp.LCOH\n",
    "            if delta > 0:\n",
    "                current_price = sum(hp.utility_rate_kWh)/8760\n",
    "                hp.utility_rate_kWh = [current_price+0.001] * 8760\n",
    "            else:\n",
    "                current_price = sum(hp.utility_rate_kWh)/8760\n",
    "                hp.utility_rate_kWh = [current_price - 0.001] * 8760\n",
    "\n",
    "        #print(delta)\n",
    "        current_price = sum(hp.utility_rate_kWh)/8760\n",
    "        #print(current_price)\n",
    "        df.loc[i,cop] = current_price"
   ]
  },
  {
   "cell_type": "code",
   "execution_count": 3,
   "metadata": {},
   "outputs": [
    {
     "output_type": "stream",
     "name": "stdout",
     "text": [
      "    COP 2  COP 3  COP 4  COP 5  COP 6  NG price\n0   0.007  0.017  0.026  0.036  0.046       1.8\n1   0.009  0.018  0.027  0.037  0.047       1.9\n2   0.010  0.020  0.029  0.039  0.049       2.0\n3   0.011  0.021  0.031  0.042  0.052       2.1\n4   0.012  0.023  0.034  0.044  0.055       2.2\n..    ...    ...    ...    ...    ...       ...\n78  0.089  0.139  0.187  0.237  0.286       9.6\n79  0.090  0.140  0.189  0.239  0.289       9.7\n80  0.091  0.142  0.192  0.242  0.292       9.8\n81  0.092  0.143  0.194  0.245  0.295       9.9\n82  0.093  0.145  0.196  0.247  0.298      10.0\n\n[83 rows x 6 columns]\n"
     ]
    }
   ],
   "source": [
    "print(df)"
   ]
  },
  {
   "cell_type": "code",
   "execution_count": 4,
   "metadata": {},
   "outputs": [
    {
     "output_type": "display_data",
     "data": {
      "application/vnd.plotly.v1+json": {
       "config": {
        "plotlyServerURL": "https://plot.ly"
       },
       "data": [
        {
         "fill": "tonexty",
         "mode": "lines",
         "name": "COP 2",
         "type": "scatter",
         "x": [
          1.8,
          1.9,
          2,
          2.1,
          2.2,
          2.3,
          2.4,
          2.5,
          2.6,
          2.7,
          2.8,
          2.9,
          3,
          3.1,
          3.2,
          3.3,
          3.4,
          3.5,
          3.6,
          3.7,
          3.8,
          3.9,
          4,
          4.1,
          4.2,
          4.3,
          4.4,
          4.5,
          4.6,
          4.7,
          4.8,
          4.9,
          5,
          5.1,
          5.2,
          5.3,
          5.4,
          5.5,
          5.6,
          5.7,
          5.8,
          5.9,
          6,
          6.1,
          6.2,
          6.3,
          6.4,
          6.5,
          6.6,
          6.7,
          6.8,
          6.9,
          7,
          7.1,
          7.2,
          7.3,
          7.4,
          7.5,
          7.6,
          7.7,
          7.8,
          7.9,
          8,
          8.1,
          8.2,
          8.3,
          8.4,
          8.5,
          8.6,
          8.7,
          8.8,
          8.9,
          9,
          9.1,
          9.2,
          9.3,
          9.4,
          9.5,
          9.6,
          9.7,
          9.8,
          9.9,
          10
         ],
         "y": [
          0.006999999999999642,
          0.009000000000000348,
          0.010000000000000963,
          0.010999999999999514,
          0.01200000000000025,
          0.013000000000002,
          0.013999999999999327,
          0.015000000000000027,
          0.01600000000000147,
          0.01699999999999878,
          0.018000000000000137,
          0.019000000000003237,
          0.020000000000007637,
          0.021000000000007582,
          0.022000000000010792,
          0.023000000000015557,
          0.02400000000002069,
          0.02500000000002583,
          0.026000000000030995,
          0.02700000000003608,
          0.029000000000046405,
          0.030000000000050674,
          0.031000000000056375,
          0.03200000000005896,
          0.03300000000006604,
          0.03400000000006736,
          0.03500000000006405,
          0.036000000000059575,
          0.037000000000056654,
          0.03800000000006262,
          0.039000000000061104,
          0.040000000000061486,
          0.04100000000005748,
          0.042000000000049734,
          0.043000000000058394,
          0.04400000000005466,
          0.04500000000005805,
          0.046000000000052714,
          0.047000000000043084,
          0.04800000000004562,
          0.049000000000038464,
          0.050000000000027925,
          0.051000000000032145,
          0.05200000000002467,
          0.0530000000000129,
          0.05400000000001869,
          0.05500000000001041,
          0.055999999999997954,
          0.05799999999999613,
          0.05899999999998311,
          0.05999999999998972,
          0.060999999999984206,
          0.06199999999999843,
          0.06299999999999085,
          0.06399999999997735,
          0.06499999999998164,
          0.06599999999998296,
          0.06699999999999547,
          0.06799999999998653,
          0.06899999999997189,
          0.06999999999997415,
          0.07099999999998016,
          0.07199999999999188,
          0.07299999999998188,
          0.07399999999996654,
          0.07499999999996569,
          0.07599999999997813,
          0.07699999999998945,
          0.07799999999998253,
          0.0789999999999826,
          0.07999999999996874,
          0.08099999999997823,
          0.081999999999986,
          0.08299999999997762,
          0.08399999999997615,
          0.08599999999997467,
          0.08699999999998193,
          0.08799999999997264,
          0.08899999999996991,
          0.08999999999995459,
          0.09099999999997183,
          0.0919999999999823,
          0.09299999999996926
         ]
        },
        {
         "fill": "tonexty",
         "mode": "lines",
         "name": "COP 3",
         "type": "scatter",
         "x": [
          1.8,
          1.9,
          2,
          2.1,
          2.2,
          2.3,
          2.4,
          2.5,
          2.6,
          2.7,
          2.8,
          2.9,
          3,
          3.1,
          3.2,
          3.3,
          3.4,
          3.5,
          3.6,
          3.7,
          3.8,
          3.9,
          4,
          4.1,
          4.2,
          4.3,
          4.4,
          4.5,
          4.6,
          4.7,
          4.8,
          4.9,
          5,
          5.1,
          5.2,
          5.3,
          5.4,
          5.5,
          5.6,
          5.7,
          5.8,
          5.9,
          6,
          6.1,
          6.2,
          6.3,
          6.4,
          6.5,
          6.6,
          6.7,
          6.8,
          6.9,
          7,
          7.1,
          7.2,
          7.3,
          7.4,
          7.5,
          7.6,
          7.7,
          7.8,
          7.9,
          8,
          8.1,
          8.2,
          8.3,
          8.4,
          8.5,
          8.6,
          8.7,
          8.8,
          8.9,
          9,
          9.1,
          9.2,
          9.3,
          9.4,
          9.5,
          9.6,
          9.7,
          9.8,
          9.9,
          10
         ],
         "y": [
          0.01700000000002719,
          0.01800000000002856,
          0.02000000000003606,
          0.021000000000036004,
          0.02300000000004398,
          0.02400000000004911,
          0.026000000000059417,
          0.028000000000069785,
          0.029000000000074827,
          0.031000000000083246,
          0.03200000000008956,
          0.034000000000099395,
          0.03500000000010002,
          0.037000000000092785,
          0.038000000000089275,
          0.04000000000009387,
          0.042000000000090625,
          0.04300000000008247,
          0.04500000000008752,
          0.04600000000009155,
          0.04800000000007591,
          0.049000000000079084,
          0.05100000000006083,
          0.053000000000057806,
          0.0540000000000458,
          0.05600000000004354,
          0.057000000000030894,
          0.05900000000002981,
          0.060000000000017574,
          0.06200000000001513,
          0.0630000000000013,
          0.06500000000000589,
          0.06700000000001019,
          0.0679999999999957,
          0.07000000000000316,
          0.07100000000001527,
          0.07299999999999032,
          0.0739999999999898,
          0.07600000000001295,
          0.07800000000000665,
          0.07899999999999291,
          0.08100000000000955,
          0.08200000000000128,
          0.08399999999998574,
          0.08499999999999787,
          0.08699999999999637,
          0.08799999999999387,
          0.08999999999999535,
          0.091999999999993,
          0.0929999999999881,
          0.09499999999999235,
          0.0960000000000016,
          0.0979999999999819,
          0.09899999999996467,
          0.10099999999991832,
          0.10299999999987036,
          0.10399999999984638,
          0.10599999999979849,
          0.10699999999977447,
          0.10899999999972661,
          0.10999999999970267,
          0.11199999999965483,
          0.11399999999960679,
          0.11499999999958288,
          0.11699999999953509,
          0.1179999999995112,
          0.1199999999994634,
          0.12099999999943951,
          0.12299999999939178,
          0.12399999999936792,
          0.12599999999932018,
          0.12799999999927167,
          0.12899999999924783,
          0.13099999999920017,
          0.13199999999917628,
          0.13399999999912862,
          0.1349999999991048,
          0.13699999999905713,
          0.1389999999990095,
          0.1399999999989857,
          0.14199999999893792,
          0.1429999999989141,
          0.1449999999988665
         ]
        },
        {
         "fill": "tonexty",
         "mode": "lines",
         "name": "COP 4",
         "type": "scatter",
         "x": [
          1.8,
          1.9,
          2,
          2.1,
          2.2,
          2.3,
          2.4,
          2.5,
          2.6,
          2.7,
          2.8,
          2.9,
          3,
          3.1,
          3.2,
          3.3,
          3.4,
          3.5,
          3.6,
          3.7,
          3.8,
          3.9,
          4,
          4.1,
          4.2,
          4.3,
          4.4,
          4.5,
          4.6,
          4.7,
          4.8,
          4.9,
          5,
          5.1,
          5.2,
          5.3,
          5.4,
          5.5,
          5.6,
          5.7,
          5.8,
          5.9,
          6,
          6.1,
          6.2,
          6.3,
          6.4,
          6.5,
          6.6,
          6.7,
          6.8,
          6.9,
          7,
          7.1,
          7.2,
          7.3,
          7.4,
          7.5,
          7.6,
          7.7,
          7.8,
          7.9,
          8,
          8.1,
          8.2,
          8.3,
          8.4,
          8.5,
          8.6,
          8.7,
          8.8,
          8.9,
          9,
          9.1,
          9.2,
          9.3,
          9.4,
          9.5,
          9.6,
          9.7,
          9.8,
          9.9,
          10
         ],
         "y": [
          0.0259999999999328,
          0.026999999999930423,
          0.02899999999993781,
          0.03099999999994404,
          0.03399999999995367,
          0.03599999999994589,
          0.037999999999948936,
          0.0399999999999478,
          0.04199999999993605,
          0.043999999999940975,
          0.04599999999993903,
          0.04799999999993193,
          0.049999999999914245,
          0.051999999999910985,
          0.053999999999905006,
          0.05599999999988427,
          0.057999999999882444,
          0.06099999999987052,
          0.06299999999987717,
          0.06499999999986796,
          0.06699999999988178,
          0.0689999999998582,
          0.07099999999986648,
          0.0729999999998682,
          0.074999999999852,
          0.07699999999987577,
          0.07899999999986891,
          0.08099999999986454,
          0.08299999999986393,
          0.08599999999986098,
          0.08799999999985895,
          0.0899999999998409,
          0.09199999999986862,
          0.09399999999985048,
          0.09599999999985538,
          0.09799999999985061,
          0.09999999999982702,
          0.10199999999978063,
          0.1039999999997327,
          0.1059999999996848,
          0.10799999999963686,
          0.10999999999958898,
          0.112999999999517,
          0.1149999999994692,
          0.1169999999994215,
          0.11899999999937566,
          0.12099999999933,
          0.12299999999928411,
          0.1249999999992913,
          0.1269999999992768,
          0.12899999999924744,
          0.13099999999920012,
          0.13299999999915246,
          0.1349999999991048,
          0.13699999999905713,
          0.1399999999989857,
          0.14199999999893792,
          0.14399999999889032,
          0.14599999999884272,
          0.14799999999879512,
          0.14999999999874755,
          0.15199999999869993,
          0.15399999999865235,
          0.1559999999986048,
          0.15799999999855727,
          0.1599999999985097,
          0.16199999999846218,
          0.16399999999841466,
          0.1669999999983408,
          0.16899999999829332,
          0.17099999999824586,
          0.17299999999819837,
          0.1749999999981509,
          0.17699999999810326,
          0.17899999999805583,
          0.18099999999800834,
          0.1829999999979609,
          0.18499999999791344,
          0.18699999999786598,
          0.18899999999781855,
          0.19199999999774736,
          0.19399999999769996,
          0.19599999999765247
         ]
        },
        {
         "fill": "tonexty",
         "mode": "lines",
         "name": "COP 5",
         "type": "scatter",
         "x": [
          1.8,
          1.9,
          2,
          2.1,
          2.2,
          2.3,
          2.4,
          2.5,
          2.6,
          2.7,
          2.8,
          2.9,
          3,
          3.1,
          3.2,
          3.3,
          3.4,
          3.5,
          3.6,
          3.7,
          3.8,
          3.9,
          4,
          4.1,
          4.2,
          4.3,
          4.4,
          4.5,
          4.6,
          4.7,
          4.8,
          4.9,
          5,
          5.1,
          5.2,
          5.3,
          5.4,
          5.5,
          5.6,
          5.7,
          5.8,
          5.9,
          6,
          6.1,
          6.2,
          6.3,
          6.4,
          6.5,
          6.6,
          6.7,
          6.8,
          6.9,
          7,
          7.1,
          7.2,
          7.3,
          7.4,
          7.5,
          7.6,
          7.7,
          7.8,
          7.9,
          8,
          8.1,
          8.2,
          8.3,
          8.4,
          8.5,
          8.6,
          8.7,
          8.8,
          8.9,
          9,
          9.1,
          9.2,
          9.3,
          9.4,
          9.5,
          9.6,
          9.7,
          9.8,
          9.9,
          10
         ],
         "y": [
          0.03599999999997865,
          0.03699999999997779,
          0.038999999999982195,
          0.04199999999997694,
          0.043999999999978,
          0.04699999999997215,
          0.04999999999995842,
          0.051999999999951856,
          0.05499999999993794,
          0.05699999999991721,
          0.05999999999990389,
          0.06299999999988762,
          0.0649999999998922,
          0.06799999999988202,
          0.06999999999988947,
          0.07299999999987664,
          0.07599999999989926,
          0.07799999999989296,
          0.08099999999989586,
          0.08299999999988647,
          0.08599999999989179,
          0.08899999999986496,
          0.09099999999989224,
          0.09399999999985838,
          0.09599999999988791,
          0.09899999999985098,
          0.10199999999986013,
          0.10399999999983855,
          0.10699999999977447,
          0.10899999999972661,
          0.11199999999965483,
          0.11499999999958288,
          0.11699999999953509,
          0.1199999999994634,
          0.12199999999941566,
          0.12499999999934404,
          0.12799999999927167,
          0.129999999999224,
          0.13299999999915246,
          0.1349999999991048,
          0.13799999999903334,
          0.14099999999896173,
          0.1429999999989141,
          0.14599999999884272,
          0.14799999999879512,
          0.15099999999872374,
          0.15399999999865235,
          0.1559999999986048,
          0.15899999999853348,
          0.16099999999848597,
          0.16399999999841466,
          0.1669999999983408,
          0.16899999999829332,
          0.1719999999982221,
          0.17399999999817461,
          0.17699999999810326,
          0.1799999999980321,
          0.1819999999979846,
          0.18499999999791344,
          0.18699999999786598,
          0.18999999999779482,
          0.1929999999977237,
          0.19499999999767623,
          0.19799999999760506,
          0.19999999999755763,
          0.20299999999748647,
          0.20599999999741536,
          0.20799999999736793,
          0.21099999999729682,
          0.2129999999972494,
          0.21599999999717828,
          0.21899999999710718,
          0.22099999999705977,
          0.22399999999698822,
          0.22599999999694081,
          0.2289999999968697,
          0.23199999999679863,
          0.23399999999675128,
          0.23699999999668325,
          0.2389999999966377,
          0.24199999999656235,
          0.2449999999965015,
          0.24699999999645586
         ]
        },
        {
         "fill": "tonexty",
         "mode": "lines",
         "name": "COP 6",
         "type": "scatter",
         "x": [
          1.8,
          1.9,
          2,
          2.1,
          2.2,
          2.3,
          2.4,
          2.5,
          2.6,
          2.7,
          2.8,
          2.9,
          3,
          3.1,
          3.2,
          3.3,
          3.4,
          3.5,
          3.6,
          3.7,
          3.8,
          3.9,
          4,
          4.1,
          4.2,
          4.3,
          4.4,
          4.5,
          4.6,
          4.7,
          4.8,
          4.9,
          5,
          5.1,
          5.2,
          5.3,
          5.4,
          5.5,
          5.6,
          5.7,
          5.8,
          5.9,
          6,
          6.1,
          6.2,
          6.3,
          6.4,
          6.5,
          6.6,
          6.7,
          6.8,
          6.9,
          7,
          7.1,
          7.2,
          7.3,
          7.4,
          7.5,
          7.6,
          7.7,
          7.8,
          7.9,
          8,
          8.1,
          8.2,
          8.3,
          8.4,
          8.5,
          8.6,
          8.7,
          8.8,
          8.9,
          9,
          9.1,
          9.2,
          9.3,
          9.4,
          9.5,
          9.6,
          9.7,
          9.8,
          9.9,
          10
         ],
         "y": [
          0.045999999999949026,
          0.046999999999954335,
          0.048999999999938225,
          0.051999999999923156,
          0.05499999999990819,
          0.05799999999989331,
          0.06099999999988093,
          0.06399999999986378,
          0.06699999999988178,
          0.07099999999986648,
          0.07399999999985285,
          0.07699999999987577,
          0.07999999999985505,
          0.08299999999986393,
          0.08599999999986098,
          0.08899999999985622,
          0.09199999999986862,
          0.09599999999985538,
          0.09899999999984431,
          0.10199999999978063,
          0.10499999999970874,
          0.10799999999963686,
          0.11099999999956506,
          0.1139999999994931,
          0.1169999999994215,
          0.11999999999935272,
          0.12399999999926115,
          0.1269999999992768,
          0.12999999999922393,
          0.13299999999915246,
          0.13599999999908097,
          0.1389999999990095,
          0.14199999999893792,
          0.1449999999988665,
          0.14899999999877134,
          0.15199999999869993,
          0.1549999999986286,
          0.15799999999855727,
          0.16099999999848597,
          0.16399999999841466,
          0.1669999999983408,
          0.1699999999982696,
          0.17299999999819837,
          0.17699999999810326,
          0.1799999999980321,
          0.1829999999979609,
          0.18599999999788971,
          0.18899999999781855,
          0.19199999999774736,
          0.19499999999767623,
          0.19799999999760506,
          0.2009999999975339,
          0.20499999999743906,
          0.20799999999736793,
          0.21099999999729682,
          0.2139999999972257,
          0.21699999999715458,
          0.21999999999708347,
          0.22299999999701237,
          0.22599999999694081,
          0.2289999999968697,
          0.23299999999677495,
          0.23599999999670435,
          0.2389999999966377,
          0.24199999999656235,
          0.2449999999965015,
          0.24799999999642203,
          0.2509999999963645,
          0.25399999999628037,
          0.2579999999961857,
          0.26099999999613577,
          0.26399999999607815,
          0.2669999999960264,
          0.26999999999593544,
          0.2729999999958881,
          0.27599999999579294,
          0.27899999999574954,
          0.28199999999565023,
          0.2859999999955565,
          0.2889999999955184,
          0.2919999999954138,
          0.2949999999953795,
          0.29799999999527105
         ]
        }
       ],
       "layout": {
        "template": {
         "data": {
          "bar": [
           {
            "error_x": {
             "color": "rgb(36,36,36)"
            },
            "error_y": {
             "color": "rgb(36,36,36)"
            },
            "marker": {
             "line": {
              "color": "white",
              "width": 0.5
             }
            },
            "type": "bar"
           }
          ],
          "barpolar": [
           {
            "marker": {
             "line": {
              "color": "white",
              "width": 0.5
             }
            },
            "type": "barpolar"
           }
          ],
          "carpet": [
           {
            "aaxis": {
             "endlinecolor": "rgb(36,36,36)",
             "gridcolor": "white",
             "linecolor": "white",
             "minorgridcolor": "white",
             "startlinecolor": "rgb(36,36,36)"
            },
            "baxis": {
             "endlinecolor": "rgb(36,36,36)",
             "gridcolor": "white",
             "linecolor": "white",
             "minorgridcolor": "white",
             "startlinecolor": "rgb(36,36,36)"
            },
            "type": "carpet"
           }
          ],
          "choropleth": [
           {
            "colorbar": {
             "outlinewidth": 1,
             "tickcolor": "rgb(36,36,36)",
             "ticks": "outside"
            },
            "type": "choropleth"
           }
          ],
          "contour": [
           {
            "colorbar": {
             "outlinewidth": 1,
             "tickcolor": "rgb(36,36,36)",
             "ticks": "outside"
            },
            "colorscale": [
             [
              0,
              "#440154"
             ],
             [
              0.1111111111111111,
              "#482878"
             ],
             [
              0.2222222222222222,
              "#3e4989"
             ],
             [
              0.3333333333333333,
              "#31688e"
             ],
             [
              0.4444444444444444,
              "#26828e"
             ],
             [
              0.5555555555555556,
              "#1f9e89"
             ],
             [
              0.6666666666666666,
              "#35b779"
             ],
             [
              0.7777777777777778,
              "#6ece58"
             ],
             [
              0.8888888888888888,
              "#b5de2b"
             ],
             [
              1,
              "#fde725"
             ]
            ],
            "type": "contour"
           }
          ],
          "contourcarpet": [
           {
            "colorbar": {
             "outlinewidth": 1,
             "tickcolor": "rgb(36,36,36)",
             "ticks": "outside"
            },
            "type": "contourcarpet"
           }
          ],
          "heatmap": [
           {
            "colorbar": {
             "outlinewidth": 1,
             "tickcolor": "rgb(36,36,36)",
             "ticks": "outside"
            },
            "colorscale": [
             [
              0,
              "#440154"
             ],
             [
              0.1111111111111111,
              "#482878"
             ],
             [
              0.2222222222222222,
              "#3e4989"
             ],
             [
              0.3333333333333333,
              "#31688e"
             ],
             [
              0.4444444444444444,
              "#26828e"
             ],
             [
              0.5555555555555556,
              "#1f9e89"
             ],
             [
              0.6666666666666666,
              "#35b779"
             ],
             [
              0.7777777777777778,
              "#6ece58"
             ],
             [
              0.8888888888888888,
              "#b5de2b"
             ],
             [
              1,
              "#fde725"
             ]
            ],
            "type": "heatmap"
           }
          ],
          "heatmapgl": [
           {
            "colorbar": {
             "outlinewidth": 1,
             "tickcolor": "rgb(36,36,36)",
             "ticks": "outside"
            },
            "colorscale": [
             [
              0,
              "#440154"
             ],
             [
              0.1111111111111111,
              "#482878"
             ],
             [
              0.2222222222222222,
              "#3e4989"
             ],
             [
              0.3333333333333333,
              "#31688e"
             ],
             [
              0.4444444444444444,
              "#26828e"
             ],
             [
              0.5555555555555556,
              "#1f9e89"
             ],
             [
              0.6666666666666666,
              "#35b779"
             ],
             [
              0.7777777777777778,
              "#6ece58"
             ],
             [
              0.8888888888888888,
              "#b5de2b"
             ],
             [
              1,
              "#fde725"
             ]
            ],
            "type": "heatmapgl"
           }
          ],
          "histogram": [
           {
            "marker": {
             "line": {
              "color": "white",
              "width": 0.6
             }
            },
            "type": "histogram"
           }
          ],
          "histogram2d": [
           {
            "colorbar": {
             "outlinewidth": 1,
             "tickcolor": "rgb(36,36,36)",
             "ticks": "outside"
            },
            "colorscale": [
             [
              0,
              "#440154"
             ],
             [
              0.1111111111111111,
              "#482878"
             ],
             [
              0.2222222222222222,
              "#3e4989"
             ],
             [
              0.3333333333333333,
              "#31688e"
             ],
             [
              0.4444444444444444,
              "#26828e"
             ],
             [
              0.5555555555555556,
              "#1f9e89"
             ],
             [
              0.6666666666666666,
              "#35b779"
             ],
             [
              0.7777777777777778,
              "#6ece58"
             ],
             [
              0.8888888888888888,
              "#b5de2b"
             ],
             [
              1,
              "#fde725"
             ]
            ],
            "type": "histogram2d"
           }
          ],
          "histogram2dcontour": [
           {
            "colorbar": {
             "outlinewidth": 1,
             "tickcolor": "rgb(36,36,36)",
             "ticks": "outside"
            },
            "colorscale": [
             [
              0,
              "#440154"
             ],
             [
              0.1111111111111111,
              "#482878"
             ],
             [
              0.2222222222222222,
              "#3e4989"
             ],
             [
              0.3333333333333333,
              "#31688e"
             ],
             [
              0.4444444444444444,
              "#26828e"
             ],
             [
              0.5555555555555556,
              "#1f9e89"
             ],
             [
              0.6666666666666666,
              "#35b779"
             ],
             [
              0.7777777777777778,
              "#6ece58"
             ],
             [
              0.8888888888888888,
              "#b5de2b"
             ],
             [
              1,
              "#fde725"
             ]
            ],
            "type": "histogram2dcontour"
           }
          ],
          "mesh3d": [
           {
            "colorbar": {
             "outlinewidth": 1,
             "tickcolor": "rgb(36,36,36)",
             "ticks": "outside"
            },
            "type": "mesh3d"
           }
          ],
          "parcoords": [
           {
            "line": {
             "colorbar": {
              "outlinewidth": 1,
              "tickcolor": "rgb(36,36,36)",
              "ticks": "outside"
             }
            },
            "type": "parcoords"
           }
          ],
          "pie": [
           {
            "automargin": true,
            "type": "pie"
           }
          ],
          "scatter": [
           {
            "marker": {
             "colorbar": {
              "outlinewidth": 1,
              "tickcolor": "rgb(36,36,36)",
              "ticks": "outside"
             }
            },
            "type": "scatter"
           }
          ],
          "scatter3d": [
           {
            "line": {
             "colorbar": {
              "outlinewidth": 1,
              "tickcolor": "rgb(36,36,36)",
              "ticks": "outside"
             }
            },
            "marker": {
             "colorbar": {
              "outlinewidth": 1,
              "tickcolor": "rgb(36,36,36)",
              "ticks": "outside"
             }
            },
            "type": "scatter3d"
           }
          ],
          "scattercarpet": [
           {
            "marker": {
             "colorbar": {
              "outlinewidth": 1,
              "tickcolor": "rgb(36,36,36)",
              "ticks": "outside"
             }
            },
            "type": "scattercarpet"
           }
          ],
          "scattergeo": [
           {
            "marker": {
             "colorbar": {
              "outlinewidth": 1,
              "tickcolor": "rgb(36,36,36)",
              "ticks": "outside"
             }
            },
            "type": "scattergeo"
           }
          ],
          "scattergl": [
           {
            "marker": {
             "colorbar": {
              "outlinewidth": 1,
              "tickcolor": "rgb(36,36,36)",
              "ticks": "outside"
             }
            },
            "type": "scattergl"
           }
          ],
          "scattermapbox": [
           {
            "marker": {
             "colorbar": {
              "outlinewidth": 1,
              "tickcolor": "rgb(36,36,36)",
              "ticks": "outside"
             }
            },
            "type": "scattermapbox"
           }
          ],
          "scatterpolar": [
           {
            "marker": {
             "colorbar": {
              "outlinewidth": 1,
              "tickcolor": "rgb(36,36,36)",
              "ticks": "outside"
             }
            },
            "type": "scatterpolar"
           }
          ],
          "scatterpolargl": [
           {
            "marker": {
             "colorbar": {
              "outlinewidth": 1,
              "tickcolor": "rgb(36,36,36)",
              "ticks": "outside"
             }
            },
            "type": "scatterpolargl"
           }
          ],
          "scatterternary": [
           {
            "marker": {
             "colorbar": {
              "outlinewidth": 1,
              "tickcolor": "rgb(36,36,36)",
              "ticks": "outside"
             }
            },
            "type": "scatterternary"
           }
          ],
          "surface": [
           {
            "colorbar": {
             "outlinewidth": 1,
             "tickcolor": "rgb(36,36,36)",
             "ticks": "outside"
            },
            "colorscale": [
             [
              0,
              "#440154"
             ],
             [
              0.1111111111111111,
              "#482878"
             ],
             [
              0.2222222222222222,
              "#3e4989"
             ],
             [
              0.3333333333333333,
              "#31688e"
             ],
             [
              0.4444444444444444,
              "#26828e"
             ],
             [
              0.5555555555555556,
              "#1f9e89"
             ],
             [
              0.6666666666666666,
              "#35b779"
             ],
             [
              0.7777777777777778,
              "#6ece58"
             ],
             [
              0.8888888888888888,
              "#b5de2b"
             ],
             [
              1,
              "#fde725"
             ]
            ],
            "type": "surface"
           }
          ],
          "table": [
           {
            "cells": {
             "fill": {
              "color": "rgb(237,237,237)"
             },
             "line": {
              "color": "white"
             }
            },
            "header": {
             "fill": {
              "color": "rgb(217,217,217)"
             },
             "line": {
              "color": "white"
             }
            },
            "type": "table"
           }
          ]
         },
         "layout": {
          "annotationdefaults": {
           "arrowhead": 0,
           "arrowwidth": 1
          },
          "coloraxis": {
           "colorbar": {
            "outlinewidth": 1,
            "tickcolor": "rgb(36,36,36)",
            "ticks": "outside"
           }
          },
          "colorscale": {
           "diverging": [
            [
             0,
             "rgb(103,0,31)"
            ],
            [
             0.1,
             "rgb(178,24,43)"
            ],
            [
             0.2,
             "rgb(214,96,77)"
            ],
            [
             0.3,
             "rgb(244,165,130)"
            ],
            [
             0.4,
             "rgb(253,219,199)"
            ],
            [
             0.5,
             "rgb(247,247,247)"
            ],
            [
             0.6,
             "rgb(209,229,240)"
            ],
            [
             0.7,
             "rgb(146,197,222)"
            ],
            [
             0.8,
             "rgb(67,147,195)"
            ],
            [
             0.9,
             "rgb(33,102,172)"
            ],
            [
             1,
             "rgb(5,48,97)"
            ]
           ],
           "sequential": [
            [
             0,
             "#440154"
            ],
            [
             0.1111111111111111,
             "#482878"
            ],
            [
             0.2222222222222222,
             "#3e4989"
            ],
            [
             0.3333333333333333,
             "#31688e"
            ],
            [
             0.4444444444444444,
             "#26828e"
            ],
            [
             0.5555555555555556,
             "#1f9e89"
            ],
            [
             0.6666666666666666,
             "#35b779"
            ],
            [
             0.7777777777777778,
             "#6ece58"
            ],
            [
             0.8888888888888888,
             "#b5de2b"
            ],
            [
             1,
             "#fde725"
            ]
           ],
           "sequentialminus": [
            [
             0,
             "#440154"
            ],
            [
             0.1111111111111111,
             "#482878"
            ],
            [
             0.2222222222222222,
             "#3e4989"
            ],
            [
             0.3333333333333333,
             "#31688e"
            ],
            [
             0.4444444444444444,
             "#26828e"
            ],
            [
             0.5555555555555556,
             "#1f9e89"
            ],
            [
             0.6666666666666666,
             "#35b779"
            ],
            [
             0.7777777777777778,
             "#6ece58"
            ],
            [
             0.8888888888888888,
             "#b5de2b"
            ],
            [
             1,
             "#fde725"
            ]
           ]
          },
          "colorway": [
           "#1F77B4",
           "#FF7F0E",
           "#2CA02C",
           "#D62728",
           "#9467BD",
           "#8C564B",
           "#E377C2",
           "#7F7F7F",
           "#BCBD22",
           "#17BECF"
          ],
          "font": {
           "color": "rgb(36,36,36)"
          },
          "geo": {
           "bgcolor": "white",
           "lakecolor": "white",
           "landcolor": "white",
           "showlakes": true,
           "showland": true,
           "subunitcolor": "white"
          },
          "hoverlabel": {
           "align": "left"
          },
          "hovermode": "closest",
          "mapbox": {
           "style": "light"
          },
          "paper_bgcolor": "white",
          "plot_bgcolor": "white",
          "polar": {
           "angularaxis": {
            "gridcolor": "rgb(232,232,232)",
            "linecolor": "rgb(36,36,36)",
            "showgrid": false,
            "showline": true,
            "ticks": "outside"
           },
           "bgcolor": "white",
           "radialaxis": {
            "gridcolor": "rgb(232,232,232)",
            "linecolor": "rgb(36,36,36)",
            "showgrid": false,
            "showline": true,
            "ticks": "outside"
           }
          },
          "scene": {
           "xaxis": {
            "backgroundcolor": "white",
            "gridcolor": "rgb(232,232,232)",
            "gridwidth": 2,
            "linecolor": "rgb(36,36,36)",
            "showbackground": true,
            "showgrid": false,
            "showline": true,
            "ticks": "outside",
            "zeroline": false,
            "zerolinecolor": "rgb(36,36,36)"
           },
           "yaxis": {
            "backgroundcolor": "white",
            "gridcolor": "rgb(232,232,232)",
            "gridwidth": 2,
            "linecolor": "rgb(36,36,36)",
            "showbackground": true,
            "showgrid": false,
            "showline": true,
            "ticks": "outside",
            "zeroline": false,
            "zerolinecolor": "rgb(36,36,36)"
           },
           "zaxis": {
            "backgroundcolor": "white",
            "gridcolor": "rgb(232,232,232)",
            "gridwidth": 2,
            "linecolor": "rgb(36,36,36)",
            "showbackground": true,
            "showgrid": false,
            "showline": true,
            "ticks": "outside",
            "zeroline": false,
            "zerolinecolor": "rgb(36,36,36)"
           }
          },
          "shapedefaults": {
           "fillcolor": "black",
           "line": {
            "width": 0
           },
           "opacity": 0.3
          },
          "ternary": {
           "aaxis": {
            "gridcolor": "rgb(232,232,232)",
            "linecolor": "rgb(36,36,36)",
            "showgrid": false,
            "showline": true,
            "ticks": "outside"
           },
           "baxis": {
            "gridcolor": "rgb(232,232,232)",
            "linecolor": "rgb(36,36,36)",
            "showgrid": false,
            "showline": true,
            "ticks": "outside"
           },
           "bgcolor": "white",
           "caxis": {
            "gridcolor": "rgb(232,232,232)",
            "linecolor": "rgb(36,36,36)",
            "showgrid": false,
            "showline": true,
            "ticks": "outside"
           }
          },
          "title": {
           "x": 0.05
          },
          "xaxis": {
           "automargin": true,
           "gridcolor": "rgb(232,232,232)",
           "linecolor": "rgb(36,36,36)",
           "showgrid": false,
           "showline": true,
           "ticks": "outside",
           "title": {
            "standoff": 15
           },
           "zeroline": false,
           "zerolinecolor": "rgb(36,36,36)"
          },
          "yaxis": {
           "automargin": true,
           "gridcolor": "rgb(232,232,232)",
           "linecolor": "rgb(36,36,36)",
           "showgrid": false,
           "showline": true,
           "ticks": "outside",
           "title": {
            "standoff": 15
           },
           "zeroline": false,
           "zerolinecolor": "rgb(36,36,36)"
          }
         }
        },
        "title": {
         "text": "Break-Even kWh Price based on COP"
        },
        "xaxis": {
         "title": {
          "text": "Price of Natural Gas ($/MMBTU)"
         }
        },
        "yaxis": {
         "title": {
          "text": "Electricity Price ($/kWh)"
         }
        }
       }
      }
     },
     "metadata": {}
    }
   ],
   "source": [
    "\n",
    "fig = go.Figure()\n",
    "\n",
    "for cop in columns:\n",
    "    fig.add_trace(go.Scatter(\n",
    "        x=df['NG price'], \n",
    "        y=df[cop],\n",
    "        mode='lines',\n",
    "        fill='tonexty',\n",
    "        name=cop\n",
    "    ))\n",
    "fig.update_layout(\n",
    "    template = 'simple_white',\n",
    "    title = 'Break-Even kWh Price based on COP',\n",
    "    xaxis_title = 'Price of Natural Gas ($/MMBTU)',\n",
    "    yaxis_title = 'Electricity Price ($/kWh)'\n",
    "    )\n",
    "fig.show()"
   ]
  },
  {
   "cell_type": "code",
   "execution_count": 5,
   "metadata": {},
   "outputs": [
    {
     "output_type": "stream",
     "name": "stdout",
     "text": [
      "-1.0\n",
      "Warning: This program recommends a refrigerant for use. This recommendation is only a first step. \n",
      "Refrigerant selection should be further analyzed before implementation.\n",
      "\n",
      "Potential refigerants for this process include:  ['Ammonia', 'Butane', 'Ethanol', 'Methanol', 'R11', 'R113', 'R114', 'R12', 'R123', 'R1233zd(E)', 'R1234ze(E)', 'R1234ze(Z)', 'R124', 'R13I1', 'R141b', 'R142b', 'R152A', 'R21', 'R236EA', 'R236FA', 'R245ca', 'R245fa', 'R365MFC', 'R40', 'RC318', 'n-Pentane', 'Water']\n",
      "\n",
      "The recommended refrigerant for this process is:  R218\n",
      "Warning this refrigerant was selected for its low critical pressure, \n",
      "all refrigerants should be examined in a detailed analysis.\n",
      "\n",
      "The refrigerant previously selected went super critical or did not meet \n",
      "other parameters, for the purposes of the COP calculation the refrigerant \n",
      "will be replaced with R245ca.\n",
      "Estimated Compressor Efficiency: 0.9\n",
      "\n",
      "Calculate COP Called\n",
      "Theoretical COP:  8.38\n",
      "Estimated COP:  5.62\n",
      "Calculate Energy and Mass Called\n",
      "Hot Mass Flow Average:  17.877  kg/s\n",
      "Cold Average Outlet Temperature:  29.56 °C\n",
      "Average Power Draw of Heat Pump:  16.05  kW\n",
      "Maximum Power Draw of Heat Pump:  52.1  kW\n",
      "Annual Electricity in:  140583.2 kWh\n",
      "Calculate Heat Pump Costs\n",
      "Capital Cost: $ 30765.62\n",
      "One Year Fixed O&M Costs: $ 11.8\n",
      "One Year Variable O&M Costs: $ 219.0\n",
      "One Year Energy Costs: $ 41915.16\n",
      "One Year Operating Costs: $ 42145.96\n",
      "Lifetime LCOH:  9.974  $/MMBTU\n",
      "Calculate Natural Gas Comparison\n",
      "Gas Capital Cost: $ 312.5\n",
      "Gas One Year Fixed O&M Costs: $ 50\n",
      "Gas One Year Variable O&M Costs: $ 54.75\n",
      "Gas One Year Energy Costs: $ 43800.0\n",
      "Gas One Year Operating Costs: $ 43904.75\n",
      "Gas Lifetime LCOH:  10.027  $/MMBTU\n",
      "Calculate Cash Flow\n",
      "NPV: $ -6550.59\n",
      "IRR:  0.014 %\n",
      "0.014\n"
     ]
    }
   ],
   "source": [
    "\n",
    "hp.refrigerant = 'R1234ze(Z)'\n",
    "\n",
    "print(hp.internal_rate_of_return)\n",
    "hp.utility_rate_kwh=[0.02]*8760\n",
    "hp.calculate_COP()\n",
    "hp.calculate_energy_and_mass_flow()\n",
    "hp.calculate_heat_pump_costs()\n",
    "hp.calculate_natural_gas_comparison()\n",
    "hp.calculate_cash_flow()\n",
    "print(hp.internal_rate_of_return)"
   ]
  },
  {
   "cell_type": "code",
   "execution_count": null,
   "metadata": {},
   "outputs": [],
   "source": []
  }
 ]
}