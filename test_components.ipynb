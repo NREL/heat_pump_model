{
 "cells": [
  {
   "cell_type": "code",
   "execution_count": 1,
   "metadata": {},
   "outputs": [],
   "source": [
    "import numpy as np\n",
    "from utilities.unit_defs import Q_\n",
    "\n",
    "from libraries import * \n",
    "from refrigerant_properties import *\n",
    "from heat_pump_model import *\n",
    "from electric_model import *\n",
    "from gas_model import *\n",
    "from cashflow_model import *"
   ]
  },
  {
   "cell_type": "code",
   "execution_count": 2,
   "metadata": {},
   "outputs": [
    {
     "name": "stdout",
     "output_type": "stream",
     "text": [
      "Calculate COP Called\n",
      "Average Theoretical COP:  4.976875 dimensionless\n",
      "Average Estimated COP:  2.4884375 dimensionless\n",
      "Calculate Energy and Mass Called\n",
      "Hot Mass Flow Average: 99.0 kg/s\n",
      "Cold Average Outlet Temperature: 46.00 °C\n",
      "Average Power Draw of Heat Pump: 201.519 kW\n",
      "Maximum Power Draw of Heat Pump: 201.519 kW\n",
      "Annual Electricity in: 1,765,302.1 kWh\n",
      "Calculate Heat Pump Costs\n",
      "Capital Cost: 150,439.86 $\n",
      "Capacity Factor: 1.000\n",
      "One Year Fixed O&M Costs: 20.19 $·MMBtu/h/kW/yr\n",
      "One Year Variable O&M Costs: 749.45 $/yr\n",
      "One Year Energy Costs: 24,186.25 $/yr\n",
      "One Year Operating Costs: 105.27 $·MMBtu/h/kW/yr\n",
      "Lifetime LCOH: 2.56 $/MMBtu\n",
      "Writing all output to a file\n"
     ]
    }
   ],
   "source": [
    "hp_test = heat_pump()\n",
    "hp_test.construct_yaml_input_quantities('heat_pump_model_inputs.yml')\n",
    "hp_test.run_all('hp_test')"
   ]
  },
  {
   "cell_type": "code",
   "execution_count": 3,
   "metadata": {},
   "outputs": [
    {
     "name": "stdout",
     "output_type": "stream",
     "text": [
      "Calculate Energy and Mass Called\n",
      "Hot Mass Flow Average: 1.1×10² kg/s\n",
      "Average Power Draw of Electric Heater: 1086.957 kW\n",
      "Maximum Power Draw of Electric Heater: 1086.957 kW\n",
      "Annual Electricity in: 9,521,739.1 kWh\n",
      "Capital Cost: 100,000.00 $\n",
      "Capacity Factor: 1.000\n",
      "One Year Fixed O&M Costs: 3.41 $·MMBtu/h/kW/yr\n",
      "One Year Variable O&M Costs: 298.90 $/yr\n",
      "One Year Energy Costs: 130,456.52 $/yr\n",
      "One Year Operating Costs: 449.57 $·MMBtu/h/kW/yr\n",
      "Lifetime LCOH: 4.58 $/MMBtu\n",
      "Writing all output to a file\n"
     ]
    }
   ],
   "source": [
    "heater_test = electric_heater()\n",
    "heater_test.construct_yaml_input_quantities('electric_model_inputs.yml')\n",
    "heater_test.run_all('electric_test')\n"
   ]
  },
  {
   "cell_type": "code",
   "execution_count": 4,
   "metadata": {},
   "outputs": [
    {
     "name": "stdout",
     "output_type": "stream",
     "text": [
      "Calculate Energy and Mass Called\n",
      "Hot Mass Flow Average: 1.1×10² kg/s\n",
      "Average Power Draw of Gas Heater: 1250.000 kW\n",
      "Maximum Power Draw of Gas Heater: 1250.000 kW\n",
      "Annual Gas in: 36.6 MMSCF\n",
      "Capital Cost: 30,709.27 $\n",
      "Capacity Factor: 1.000\n",
      "One Year Fixed O&M Costs: 170.61 $/yr\n",
      "One Year Variable O&M Costs: 298.90 $/yr\n",
      "One Year Energy Costs: 747,258.91 $/yr\n",
      "One Year Operating Costs: 747,728.42 $/yr\n",
      "Lifetime LCOH: 25.07 $/MMBtu\n",
      "Writing all output to a file\n"
     ]
    }
   ],
   "source": [
    "gas_test = gas_heater()\n",
    "gas_test.construct_yaml_input_quantities('gas_model_inputs.yml')\n",
    "gas_test.run_all('gas_test')"
   ]
  },
  {
   "cell_type": "code",
   "execution_count": 5,
   "metadata": {},
   "outputs": [
    {
     "name": "stdout",
     "output_type": "stream",
     "text": [
      "[-69290.72959160461, 630169.157627273, 643651.19962928, 657421.7573301299, 671487.004965778, 685853.2489008291, 700526.93045609, 715514.6287966338, 730823.0638816652, 746459.0994775161, 762429.7462351184, 778742.1648333332, 795403.66918955, 812421.7297389896, 829803.9767841875, 847558.2039161525, 865692.3715087416, 884214.6102878121, 903133.2249767545, 922456.6980200405]\n",
      "NPV: 5,987,745.28 $\n",
      "IRR:  0.09115960972964461 percent\n",
      "PBP:  -0.11473658252108343\n"
     ]
    }
   ],
   "source": [
    "## Converting one component to intput dict\n",
    "gas_dict = object_to_dict(gas_test)\n",
    "elec_dict = object_to_dict(heater_test)\n",
    "\n",
    "calculate_cash_flow(gas_dict, elec_dict, 20, 0.10)"
   ]
  },
  {
   "cell_type": "code",
   "execution_count": 6,
   "metadata": {},
   "outputs": [
    {
     "name": "stdout",
     "output_type": "stream",
     "text": [
      "[-119730.58864832777, 738246.2874505866, 754051.1807886126, 770194.298844072, 786682.8796259186, 803524.3160364967, 820726.1591862609, 838296.1217794303, 856242.0815720937, 874572.0849043196, 893294.3503078555, 912417.272191027, 931949.4246024983, 951899.5650755751, 972276.6385547759, 993089.7814064316, 1014348.3255151126, 1036061.8024677194, 1058239.947827112, 1080892.7054971957]\n",
      "NPV: 6,976,735.68 $\n",
      "IRR:  0.06187304083859038 percent\n",
      "PBP:  -0.16879764363585387\n"
     ]
    }
   ],
   "source": [
    "gas_dict = object_to_dict(gas_test)\n",
    "hp_dict = object_to_dict(hp_test)\n",
    "\n",
    "calculate_cash_flow(gas_dict, hp_dict, 20, 0.10)"
   ]
  },
  {
   "cell_type": "code",
   "execution_count": 7,
   "metadata": {},
   "outputs": [
    {
     "name": "stdout",
     "output_type": "stream",
     "text": [
      "[-219730.58864832777, 604695.6804397738, 617649.0603438867, 630879.6425779475, 644393.3592718173, 658196.2695029359, 672294.5620130004, 686694.5579827803, 701402.7138663137, 716425.6242857543, 731770.0249881712, 747442.7958656198, 763450.9640398456, 779801.7070130002, 796502.3558857801, 813560.3986444375, 830983.4835181303, 848779.42240812, 866956.1943903554, 885521.9492930109]\n",
      "NPV: 5,593,411.87 $\n",
      "IRR:  0.02773407959864846 percent\n",
      "PBP:  -0.3744904340975461\n"
     ]
    }
   ],
   "source": [
    "gas_dict = object_to_dict(gas_test)\n",
    "elec_dict = combined_dict(heater_test, hp_test)\n",
    "\n",
    "calculate_cash_flow(gas_dict, elec_dict, 20, 0.10)"
   ]
  },
  {
   "cell_type": "code",
   "execution_count": null,
   "metadata": {},
   "outputs": [],
   "source": []
  },
  {
   "cell_type": "code",
   "execution_count": null,
   "metadata": {},
   "outputs": [],
   "source": []
  }
 ],
 "metadata": {
  "kernelspec": {
   "display_name": "Python 3 (ipykernel)",
   "language": "python",
   "name": "python3"
  },
  "language_info": {
   "codemirror_mode": {
    "name": "ipython",
    "version": 3
   },
   "file_extension": ".py",
   "mimetype": "text/x-python",
   "name": "python",
   "nbconvert_exporter": "python",
   "pygments_lexer": "ipython3",
   "version": "3.9.13"
  },
  "vscode": {
   "interpreter": {
    "hash": "c6e4e9f98eb68ad3b7c296f83d20e6de614cb42e90992a65aa266555a3137d0d"
   }
  }
 },
 "nbformat": 4,
 "nbformat_minor": 2
}
