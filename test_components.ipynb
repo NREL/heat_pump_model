{
 "cells": [
  {
   "cell_type": "code",
   "execution_count": 1,
   "metadata": {},
   "outputs": [],
   "source": [
    "from heat_pump_model_v2 import *\n",
    "from electric_model import *\n",
    "from gas_model import *\n",
    "\n",
    "from libraries import * \n",
    "from refrigerant_properties import *\n",
    "import numpy as np\n",
    "from utilities.unit_defs import Q_\n",
    "\n",
    "from cashflow_model import *"
   ]
  },
  {
   "cell_type": "code",
   "execution_count": 2,
   "metadata": {},
   "outputs": [
    {
     "name": "stdout",
     "output_type": "stream",
     "text": [
      "Calculate COP Called\n",
      "Average Theoretical COP:  5.687857142857141 dimensionless\n",
      "Average Estimated COP:  2.8439285714285707 dimensionless\n",
      "Calculate Energy and Mass Called\n",
      "Hot Mass Flow Average: 99.0 kg/s\n",
      "Cold Average Outlet Temperature: 56.00 °C\n",
      "Average Power Draw of Heat Pump: 1408.160 kW\n",
      "Maximum Power Draw of Heat Pump: 1408.160 kW\n",
      "Annual Electricity in: 12,335,479.8 kWh\n",
      "Calculate Heat Pump Costs\n",
      "Capital Cost: 2,362,776.46 $\n",
      "Capacity Factor: 1.000\n",
      "One Year Fixed O&M Costs: 161.24 $·MMBtu/h/kW/yr\n",
      "One Year Variable O&M Costs: 5,985.10 $/yr\n",
      "One Year Energy Costs: 415,688.77 $/yr\n",
      "One Year Operating Costs: 1,600.05 $·MMBtu/h/kW/yr\n",
      "Lifetime LCOH: 4.90 $/MMBtu\n",
      "Writing all output to a file\n"
     ]
    }
   ],
   "source": [
    "hp_test = heat_pump()\n",
    "hp_test.construct_yaml_input_quantities('heatpump_model_inputs.yml')\n",
    "hp_test.hot_temperature_desired = Q_(np.array([120]*8760), 'degC')\n",
    "hp_test.hot_temperature_minimum = Q_(np.array([80]*8760), 'degC')\n",
    "hp_test.cold_temperature_available = Q_(np.array([60]*8760), 'degC')\n",
    "hp_test.gas_price_MMBTU = Q_(np.array([4.5] * 8760), 'USD / MMBtu')\n",
    "hp_test.carnot_efficiency_factor = Q_('0.50')\n",
    "hp_test.carnot_efficiency_factor_flag = False\n",
    "hp_test.refrigerant = 'R234a'\n",
    "\n",
    "hp_test.run_all('hp_test')"
   ]
  },
  {
   "cell_type": "code",
   "execution_count": 3,
   "metadata": {},
   "outputs": [
    {
     "name": "stdout",
     "output_type": "stream",
     "text": [
      "Calculate Energy and Mass Called\n",
      "Hot Mass Flow Average: 0.406 kg/s\n",
      "Average Power Draw of Electric Heater: 1086.957 kW\n",
      "Maximum Power Draw of Electric Heater: 1086.957 kW\n",
      "Annual Electricity in: 9,521,739.1 kWh\n",
      "Capital Cost: 100,000.00 $\n",
      "Capacity Factor: 1.000\n",
      "One Year Fixed O&M Costs: 3.41 $·MMBtu/h/kW/yr\n",
      "One Year Variable O&M Costs: 298.90 $/yr\n",
      "One Year Energy Costs: 130,456.52 $/yr\n",
      "One Year Operating Costs: 449.57 $·MMBtu/h/kW/yr\n",
      "Lifetime LCOH: 4.58 $/MMBtu\n",
      "Writing all output to a file\n"
     ]
    }
   ],
   "source": [
    "heater_test = electric_heater()\n",
    "heater_test.construct_yaml_input_quantities('electric_model_inputs.yml')\n",
    "heater_test.hot_temperature = Q_(np.array([120]*8760), 'degC')\n",
    "heater_test.cold_temperature = Q_(np.array([60]*8760), 'degC')\n",
    "heater_test.run_all('electric_test')\n"
   ]
  },
  {
   "cell_type": "code",
   "execution_count": 4,
   "metadata": {},
   "outputs": [
    {
     "name": "stdout",
     "output_type": "stream",
     "text": [
      "Calculate Energy and Mass Called\n",
      "Hot Mass Flow Average: 0.406 kg/s\n",
      "Average Power Draw of Gas Heater: 1250.000 kW\n",
      "Maximum Power Draw of Gas Heater: 1250.000 kW\n",
      "Annual Gas in: 36.6 MMSCF\n",
      "Capital Cost: 90,000,000.00 $·h·kW/MMBtu\n",
      "Capacity Factor: 1.000\n",
      "One Year Fixed O&M Costs: 170.61 $/yr\n",
      "One Year Variable O&M Costs: 298.90 $/yr\n",
      "One Year Energy Costs: 168,133.26 $/yr\n",
      "One Year Operating Costs: 19,421,662.91 $/yr\n",
      "Lifetime LCOH: 650.28 $/MMBtu\n",
      "Writing all output to a file\n"
     ]
    }
   ],
   "source": [
    "gas_test = gas_heater()\n",
    "gas_test.construct_yaml_input_quantities('gas_model_inputs.yml')\n",
    "gas_test.hot_temperature = Q_(np.array([120]*8760), 'degC')\n",
    "gas_test.cold_temperature = Q_(np.array([60]*8760), 'degC')\n",
    "gas_test.run_all('gas_test')\n"
   ]
  },
  {
   "cell_type": "code",
   "execution_count": 5,
   "metadata": {},
   "outputs": [
    {
     "name": "stdout",
     "output_type": "stream",
     "text": [
      "NPV: 251,455,071.57 $\n",
      "IRR:  nan percent\n",
      "PBP:  6.5815583182180175\n"
     ]
    }
   ],
   "source": [
    "## Converting one component to intput dict\n",
    "gas_dict = object_to_dict(gas_test)\n",
    "elec_dict = object_to_dict(heater_test)\n",
    "\n",
    "calculate_cash_flow(gas_dict, elec_dict, 20, 0.10)"
   ]
  },
  {
   "cell_type": "code",
   "execution_count": 6,
   "metadata": {},
   "outputs": [
    {
     "name": "stdout",
     "output_type": "stream",
     "text": [
      "NPV: 244,959,735.62 $\n",
      "IRR:  nan percent\n",
      "PBP:  6.544571857701772\n"
     ]
    }
   ],
   "source": [
    "gas_dict = object_to_dict(gas_test)\n",
    "elec_dict = combined_dict(heater_test, hp_test)\n",
    "\n",
    "calculate_cash_flow(gas_dict, elec_dict, 20, 0.10)"
   ]
  }
 ],
 "metadata": {
  "kernelspec": {
   "display_name": "Python 3.9.13 ('base')",
   "language": "python",
   "name": "python3"
  },
  "language_info": {
   "codemirror_mode": {
    "name": "ipython",
    "version": 3
   },
   "file_extension": ".py",
   "mimetype": "text/x-python",
   "name": "python",
   "nbconvert_exporter": "python",
   "pygments_lexer": "ipython3",
   "version": "3.9.13"
  },
  "orig_nbformat": 4,
  "vscode": {
   "interpreter": {
    "hash": "c6e4e9f98eb68ad3b7c296f83d20e6de614cb42e90992a65aa266555a3137d0d"
   }
  }
 },
 "nbformat": 4,
 "nbformat_minor": 2
}
