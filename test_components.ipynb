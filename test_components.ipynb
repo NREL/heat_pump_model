{
 "cells": [
  {
   "cell_type": "code",
   "execution_count": 1,
   "metadata": {},
   "outputs": [
    {
     "ename": "ModuleNotFoundError",
     "evalue": "No module named 'plotly'",
     "output_type": "error",
     "traceback": [
      "\u001b[0;31m---------------------------------------------------------------------------\u001b[0m",
      "\u001b[0;31mModuleNotFoundError\u001b[0m                       Traceback (most recent call last)",
      "Input \u001b[0;32mIn [1]\u001b[0m, in \u001b[0;36m<cell line: 1>\u001b[0;34m()\u001b[0m\n\u001b[0;32m----> 1\u001b[0m \u001b[38;5;28;01mfrom\u001b[39;00m \u001b[38;5;21;01mheat_pump_model_v2\u001b[39;00m \u001b[38;5;28;01mimport\u001b[39;00m \u001b[38;5;241m*\u001b[39m\n\u001b[1;32m      2\u001b[0m \u001b[38;5;28;01mfrom\u001b[39;00m \u001b[38;5;21;01melectric_model\u001b[39;00m \u001b[38;5;28;01mimport\u001b[39;00m \u001b[38;5;241m*\u001b[39m\n\u001b[1;32m      3\u001b[0m \u001b[38;5;28;01mfrom\u001b[39;00m \u001b[38;5;21;01mgas_model\u001b[39;00m \u001b[38;5;28;01mimport\u001b[39;00m \u001b[38;5;241m*\u001b[39m\n",
      "File \u001b[0;32m~/Documents/GitHub/heat_pump_model/heat_pump_model_v2.py:17\u001b[0m, in \u001b[0;36m<module>\u001b[0;34m\u001b[0m\n\u001b[1;32m     14\u001b[0m \u001b[38;5;28;01mfrom\u001b[39;00m \u001b[38;5;21;01mCoolProp\u001b[39;00m\u001b[38;5;21;01m.\u001b[39;00m\u001b[38;5;21;01mPlots\u001b[39;00m \u001b[38;5;28;01mimport\u001b[39;00m SimpleCompressionCycle\n\u001b[1;32m     16\u001b[0m \u001b[38;5;28;01mfrom\u001b[39;00m \u001b[38;5;21;01mlibraries\u001b[39;00m \u001b[38;5;28;01mimport\u001b[39;00m \u001b[38;5;241m*\u001b[39m\n\u001b[0;32m---> 17\u001b[0m \u001b[38;5;28;01mfrom\u001b[39;00m \u001b[38;5;21;01mrefrigerant_properties\u001b[39;00m \u001b[38;5;28;01mimport\u001b[39;00m\u001b[38;5;241m*\u001b[39m\n\u001b[1;32m     18\u001b[0m \u001b[38;5;28;01mfrom\u001b[39;00m \u001b[38;5;21;01mutilities\u001b[39;00m\u001b[38;5;21;01m.\u001b[39;00m\u001b[38;5;21;01munit_defs\u001b[39;00m \u001b[38;5;28;01mimport\u001b[39;00m ureg, Q_\n\u001b[1;32m     19\u001b[0m \u001b[38;5;66;03m# from uncertainties import ufloat as uf\u001b[39;00m\n\u001b[1;32m     20\u001b[0m \u001b[38;5;66;03m# from uncertainties import unumpy as unp\u001b[39;00m\n\u001b[1;32m     21\u001b[0m \n\u001b[0;32m   (...)\u001b[0m\n\u001b[1;32m     25\u001b[0m \u001b[38;5;66;03m##### Initialization #####\u001b[39;00m\n\u001b[1;32m     26\u001b[0m \u001b[38;5;66;03m## This class calls the heat pump model and initializes it to dummy values.\u001b[39;00m\n",
      "File \u001b[0;32m~/Documents/GitHub/heat_pump_model/refrigerant_properties.py:4\u001b[0m, in \u001b[0;36m<module>\u001b[0;34m\u001b[0m\n\u001b[1;32m      2\u001b[0m \u001b[38;5;28;01mimport\u001b[39;00m \u001b[38;5;21;01mmath\u001b[39;00m\n\u001b[1;32m      3\u001b[0m \u001b[38;5;28;01mimport\u001b[39;00m \u001b[38;5;21;01mpandas\u001b[39;00m \u001b[38;5;28;01mas\u001b[39;00m \u001b[38;5;21;01mpd\u001b[39;00m\n\u001b[0;32m----> 4\u001b[0m \u001b[38;5;28;01mimport\u001b[39;00m \u001b[38;5;21;01mplotly\u001b[39;00m\u001b[38;5;21;01m.\u001b[39;00m\u001b[38;5;21;01mgraph_objects\u001b[39;00m \u001b[38;5;28;01mas\u001b[39;00m \u001b[38;5;21;01mgo\u001b[39;00m\n\u001b[1;32m      5\u001b[0m \u001b[38;5;28;01mimport\u001b[39;00m \u001b[38;5;21;01mplotly\u001b[39;00m\u001b[38;5;21;01m.\u001b[39;00m\u001b[38;5;21;01mexpress\u001b[39;00m \u001b[38;5;28;01mas\u001b[39;00m \u001b[38;5;21;01mpx\u001b[39;00m\n\u001b[1;32m      7\u001b[0m \u001b[38;5;28;01mimport\u001b[39;00m \u001b[38;5;21;01mCoolProp\u001b[39;00m\n",
      "\u001b[0;31mModuleNotFoundError\u001b[0m: No module named 'plotly'"
     ]
    }
   ],
   "source": [
    "from heat_pump_model_v2 import *\n",
    "from electric_model import *\n",
    "from gas_model import *\n",
    "\n",
    "from libraries import * \n",
    "from refrigerant_properties import *\n",
    "import numpy as np\n",
    "from utilities.unit_defs import Q_\n",
    "\n",
    "from cashflow_model import calculate_cash_flow"
   ]
  },
  {
   "cell_type": "code",
   "execution_count": null,
   "metadata": {},
   "outputs": [],
   "source": [
    "hp_test = heat_pump()\n",
    "hp_test.construct_yaml_input_quantities('heatpump_model_inputs.yml')\n",
    "hp_test.hot_temperature_desired = Q_(np.array([120]*8760), 'degC')\n",
    "hp_test.hot_temperature_minimum = Q_(np.array([80]*8760), 'degC')\n",
    "hp_test.cold_temperature_available = Q_(np.array([60]*8760), 'degC')\n",
    "hp_test.gas_price_MMBTU = Q_(np.array([4.5] * 8760), 'USD / MMBtu')\n",
    "hp_test.carnot_efficiency_factor = Q_('0.50')\n",
    "hp_test.carnot_efficiency_factor_flag = False\n",
    "hp_test.refrigerant = 'R234a'\n",
    "\n",
    "hp_test.run_all('hp_test')"
   ]
  },
  {
   "cell_type": "code",
   "execution_count": null,
   "metadata": {},
   "outputs": [],
   "source": [
    "heater_test = electric_heater()\n",
    "heater_test.construct_yaml_input_quantities('electric_model_inputs.yml')\n",
    "heater_test.hot_temperature = Q_(np.array([120]*8760), 'degC')\n",
    "heater_test.cold_temperature = Q_(np.array([60]*8760), 'degC')\n",
    "heater_test.run_all('electric_test')\n"
   ]
  },
  {
   "cell_type": "code",
   "execution_count": null,
   "metadata": {},
   "outputs": [],
   "source": [
    "gas_test = gas_heater()\n",
    "gas_test.construct_yaml_input_quantities('gas_model_inputs.yml')\n",
    "gas_test.hot_temperature = Q_(np.array([120]*8760), 'degC')\n",
    "gas_test.cold_temperature = Q_(np.array([60]*8760), 'degC')\n",
    "gas_test.run_all('gas_test')\n"
   ]
  },
  {
   "cell_type": "code",
   "execution_count": null,
   "metadata": {},
   "outputs": [],
   "source": [
    "## Converting one component to intput dict\n",
    "\n",
    "\n",
    "\n",
    "gas_dict = {\n",
    "    'capital_cost'                  : gas_test.capital_cost.m,\n",
    "    'year_one_energy_cost'          : gas_test.year_one_energy_costs.m,\n",
    "    'year_one_fixed_o_and_m'        : gas_test.year_one_fixed_o_and_m.m,\n",
    "    'year_one_variable_o_and_m'     : gas_test.year_one_variable_o_and_m.m,\n",
    "    'year_one_cost_of_emissions'    : gas_test.year_one_cost_of_emissions.m\n",
    "}\n",
    "\n",
    "elec_dict = {\n",
    "    'capital_cost'                  : heater_test.capital_cost.m,\n",
    "    'year_one_energy_cost'          : heater_test.year_one_energy_costs.m,\n",
    "    'year_one_fixed_o_and_m'        : heater_test.year_one_fixed_o_and_m.m,\n",
    "    'year_one_variable_o_and_m'     : heater_test.year_one_variable_o_and_m.m,\n",
    "    'year_one_cost_of_emissions'    : 0\n",
    "}\n",
    "\n",
    "calculate_cash_flow(elec_dict, gas_dict, 20, 0.10)"
   ]
  },
  {
   "cell_type": "code",
   "execution_count": null,
   "metadata": {},
   "outputs": [],
   "source": []
  }
 ],
 "metadata": {
  "kernelspec": {
   "display_name": "Python 3 (ipykernel)",
   "language": "python",
   "name": "python3"
  },
  "language_info": {
   "codemirror_mode": {
    "name": "ipython",
    "version": 3
   },
   "file_extension": ".py",
   "mimetype": "text/x-python",
   "name": "python",
   "nbconvert_exporter": "python",
   "pygments_lexer": "ipython3",
   "version": "3.10.5"
  },
  "vscode": {
   "interpreter": {
    "hash": "c6e4e9f98eb68ad3b7c296f83d20e6de614cb42e90992a65aa266555a3137d0d"
   }
  }
 },
 "nbformat": 4,
 "nbformat_minor": 2
}
